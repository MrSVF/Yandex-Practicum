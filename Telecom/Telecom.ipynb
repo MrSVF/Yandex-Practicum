{
 "cells": [
  {
   "cell_type": "markdown",
   "metadata": {},
   "source": [
    "<div class=\"alert alert-success\">\n",
    "<h3> Will be transated...</h3>\n",
    "\n",
    "</div>"
   ]
  },
  {
   "cell_type": "markdown",
   "metadata": {},
   "source": [
    "## Определение перспективного тарифа для телеком компании\n",
    "---\n",
    "Планируется по выборке из 500 пользователей компании «Мегалайн» проанализировать поведение клиентов за 2018 год на двух тарифных планах: «Смарт» и «Ультра».\n",
    "\n",
    "Для каждого пользователя будут проанализированы:\n",
    "- количество сделанных звонков и израсходованных минут разговора по месяцам;\n",
    "- количество отправленных сообщений по месяцам;\n",
    "- объем израсходованного интернет-трафика по месяцам;\n",
    "- помесячная выручка.\n",
    "\n",
    "Будут проверены гипотезы:\n",
    "- средняя выручка пользователей тарифов «Ультра» и «Смарт» различается;\n",
    "- средняя выручка пользователей из Москвы отличается от выручки пользователей из других регионов."
   ]
  },
  {
   "cell_type": "code",
   "execution_count": 1,
   "metadata": {},
   "outputs": [],
   "source": [
    "# Импортируем основные библиотеки\n",
    "import math\n",
    "import pandas as pd\n",
    "import numpy as np\n",
    "\n",
    "from IPython.display import display\n",
    "\n",
    "import seaborn as sns\n",
    "\n",
    "import matplotlib\n",
    "import matplotlib.ticker\n",
    "import matplotlib.pyplot as plt\n",
    "\n",
    "from scipy.stats import gaussian_kde\n",
    "# from scipy import stats\n",
    "from scipy import stats as st"
   ]
  },
  {
   "cell_type": "code",
   "execution_count": 2,
   "metadata": {},
   "outputs": [],
   "source": [
    "sns.set_context(\n",
    "    \"notebook\", \n",
    "    font_scale = 1.5,       \n",
    "    rc = { \n",
    "        \"figure.figsize\" : (30, 30), \n",
    "        \"axes.titlesize\" : 18 \n",
    "    }\n",
    ")"
   ]
  },
  {
   "cell_type": "code",
   "execution_count": 3,
   "metadata": {},
   "outputs": [],
   "source": [
    "# Читаем данные\n",
    "сalls_raw = pd.read_csv(r'D:\\Docs\\Documents\\ЯПрактикум\\Проект3\\calls.csv')\n",
    "inet_raw = pd.read_csv(r'D:\\Docs\\Documents\\ЯПрактикум\\Проект3\\internet.csv')\n",
    "mes = pd.read_csv(r'D:\\Docs\\Documents\\ЯПрактикум\\Проект3\\messages.csv')\n",
    "tar = pd.read_csv(r'D:\\Docs\\Documents\\ЯПрактикум\\Проект3\\tariffs.csv')\n",
    "users = pd.read_csv(r'D:\\Docs\\Documents\\ЯПрактикум\\Проект3\\users.csv')"
   ]
  },
  {
   "cell_type": "code",
   "execution_count": 4,
   "metadata": {},
   "outputs": [],
   "source": [
    "# Функция анализа пропущенных данных\n",
    "def missing_data(data):\n",
    "    total = data.isnull().sum().sort_values(ascending = False)\n",
    "    percent = (data.isnull().sum()/data.isnull().count()*100).sort_values(ascending = False)\n",
    "    return pd.concat([total, percent], axis=1, keys=['Total missing data', 'Percent missing data'])"
   ]
  },
  {
   "cell_type": "code",
   "execution_count": 5,
   "metadata": {},
   "outputs": [
    {
     "name": "stdout",
     "output_type": "stream",
     "text": [
      "<class 'pandas.core.frame.DataFrame'>\n",
      "RangeIndex: 202607 entries, 0 to 202606\n",
      "Data columns (total 4 columns):\n",
      " #   Column     Non-Null Count   Dtype  \n",
      "---  ------     --------------   -----  \n",
      " 0   id         202607 non-null  object \n",
      " 1   call_date  202607 non-null  object \n",
      " 2   duration   202607 non-null  float64\n",
      " 3   user_id    202607 non-null  int64  \n",
      "dtypes: float64(1), int64(1), object(2)\n",
      "memory usage: 6.2+ MB\n"
     ]
    },
    {
     "data": {
      "text/plain": [
       "None"
      ]
     },
     "metadata": {},
     "output_type": "display_data"
    },
    {
     "data": {
      "text/html": [
       "<div>\n",
       "<style scoped>\n",
       "    .dataframe tbody tr th:only-of-type {\n",
       "        vertical-align: middle;\n",
       "    }\n",
       "\n",
       "    .dataframe tbody tr th {\n",
       "        vertical-align: top;\n",
       "    }\n",
       "\n",
       "    .dataframe thead th {\n",
       "        text-align: right;\n",
       "    }\n",
       "</style>\n",
       "<table border=\"1\" class=\"dataframe\">\n",
       "  <thead>\n",
       "    <tr style=\"text-align: right;\">\n",
       "      <th></th>\n",
       "      <th>id</th>\n",
       "      <th>call_date</th>\n",
       "      <th>duration</th>\n",
       "      <th>user_id</th>\n",
       "    </tr>\n",
       "  </thead>\n",
       "  <tbody>\n",
       "    <tr>\n",
       "      <th>0</th>\n",
       "      <td>1000_0</td>\n",
       "      <td>2018-07-25</td>\n",
       "      <td>0.00</td>\n",
       "      <td>1000</td>\n",
       "    </tr>\n",
       "    <tr>\n",
       "      <th>1</th>\n",
       "      <td>1000_1</td>\n",
       "      <td>2018-08-17</td>\n",
       "      <td>0.00</td>\n",
       "      <td>1000</td>\n",
       "    </tr>\n",
       "    <tr>\n",
       "      <th>2</th>\n",
       "      <td>1000_2</td>\n",
       "      <td>2018-06-11</td>\n",
       "      <td>2.85</td>\n",
       "      <td>1000</td>\n",
       "    </tr>\n",
       "  </tbody>\n",
       "</table>\n",
       "</div>"
      ],
      "text/plain": [
       "       id   call_date  duration  user_id\n",
       "0  1000_0  2018-07-25      0.00     1000\n",
       "1  1000_1  2018-08-17      0.00     1000\n",
       "2  1000_2  2018-06-11      2.85     1000"
      ]
     },
     "metadata": {},
     "output_type": "display_data"
    },
    {
     "data": {
      "text/plain": [
       "0.00     39613\n",
       "4.49       142\n",
       "5.50       142\n",
       "6.15       141\n",
       "6.38       141\n",
       "         ...  \n",
       "27.02        1\n",
       "26.19        1\n",
       "25.34        1\n",
       "27.13        1\n",
       "24.28        1\n",
       "Name: duration, Length: 2871, dtype: int64"
      ]
     },
     "metadata": {},
     "output_type": "display_data"
    },
    {
     "data": {
      "text/html": [
       "<div>\n",
       "<style scoped>\n",
       "    .dataframe tbody tr th:only-of-type {\n",
       "        vertical-align: middle;\n",
       "    }\n",
       "\n",
       "    .dataframe tbody tr th {\n",
       "        vertical-align: top;\n",
       "    }\n",
       "\n",
       "    .dataframe thead th {\n",
       "        text-align: right;\n",
       "    }\n",
       "</style>\n",
       "<table border=\"1\" class=\"dataframe\">\n",
       "  <thead>\n",
       "    <tr style=\"text-align: right;\">\n",
       "      <th></th>\n",
       "      <th>Total missing data</th>\n",
       "      <th>Percent missing data</th>\n",
       "    </tr>\n",
       "  </thead>\n",
       "  <tbody>\n",
       "    <tr>\n",
       "      <th>user_id</th>\n",
       "      <td>0</td>\n",
       "      <td>0.0</td>\n",
       "    </tr>\n",
       "    <tr>\n",
       "      <th>duration</th>\n",
       "      <td>0</td>\n",
       "      <td>0.0</td>\n",
       "    </tr>\n",
       "    <tr>\n",
       "      <th>call_date</th>\n",
       "      <td>0</td>\n",
       "      <td>0.0</td>\n",
       "    </tr>\n",
       "    <tr>\n",
       "      <th>id</th>\n",
       "      <td>0</td>\n",
       "      <td>0.0</td>\n",
       "    </tr>\n",
       "  </tbody>\n",
       "</table>\n",
       "</div>"
      ],
      "text/plain": [
       "           Total missing data  Percent missing data\n",
       "user_id                     0                   0.0\n",
       "duration                    0                   0.0\n",
       "call_date                   0                   0.0\n",
       "id                          0                   0.0"
      ]
     },
     "metadata": {},
     "output_type": "display_data"
    },
    {
     "name": "stdout",
     "output_type": "stream",
     "text": [
      "Дубликаты: 0\n"
     ]
    },
    {
     "data": {
      "text/plain": [
       "<matplotlib.axes._subplots.AxesSubplot at 0x209c79b19c8>"
      ]
     },
     "metadata": {},
     "output_type": "display_data"
    },
    {
     "data": {
      "image/png": "[encoded data removed]",
      "text/plain": [
       "<Figure size 432x288 with 1 Axes>"
      ]
     },
     "metadata": {
      "needs_background": "light"
     },
     "output_type": "display_data"
    },
    {
     "data": {
      "image/png": "[encoded data removed]",
      "text/plain": [
       "<Figure size 432x72 with 1 Axes>"
      ]
     },
     "metadata": {
      "needs_background": "light"
     },
     "output_type": "display_data"
    },
    {
     "data": {
      "text/plain": [
       "<matplotlib.axes._subplots.AxesSubplot at 0x209ca9aff08>"
      ]
     },
     "metadata": {},
     "output_type": "display_data"
    },
    {
     "data": {
      "image/png": "[encoded data removed]",
      "text/plain": [
       "<Figure size 432x288 with 1 Axes>"
      ]
     },
     "metadata": {
      "needs_background": "light"
     },
     "output_type": "display_data"
    }
   ],
   "source": [
    "# Смотрим на данные\n",
    "display(сalls_raw.info())\n",
    "display(сalls_raw.head(3))\n",
    "display(сalls_raw['duration'].value_counts())\n",
    "display(missing_data(сalls_raw))\n",
    "print('Дубликаты:', сalls_raw.duplicated().sum())\n",
    "\n",
    "display(сalls_raw['duration'].hist(bins=100, range=(0, 25)))\n",
    "plt.title('Распределение времени звонков (полные данные) \\n и диаграмма размаха')\n",
    "plt.xlabel('Длительность')\n",
    "plt.ylabel('Частота')\n",
    "plt.show()\n",
    "plt.figure(figsize=(6, 1))\n",
    "сalls_raw.boxplot('duration', vert=False)\n",
    "plt.show()\n",
    "\n",
    "# Проверим в исследовании 2 варианта: полные данные и данные с отброшенными звонками нулевой длительности\n",
    "сalls = сalls_raw.query('duration > 0').copy()\n",
    "# сalls = сalls_raw\n",
    "\n",
    "display(сalls['duration'].hist(bins=100, range=(0, 25)))\n",
    "plt.title('Распределение времени звонков (без \"пустых\" соединений)')\n",
    "plt.xlabel('Длительность')\n",
    "plt.ylabel('Частота')\n",
    "plt.show()\n",
    "\n",
    "# Фильтруем данные\n",
    "сalls = сalls.query('duration < 25').copy()"
   ]
  },
  {
   "cell_type": "code",
   "execution_count": 6,
   "metadata": {},
   "outputs": [
    {
     "name": "stdout",
     "output_type": "stream",
     "text": [
      "<class 'pandas.core.frame.DataFrame'>\n",
      "RangeIndex: 149396 entries, 0 to 149395\n",
      "Data columns (total 5 columns):\n",
      " #   Column        Non-Null Count   Dtype  \n",
      "---  ------        --------------   -----  \n",
      " 0   Unnamed: 0    149396 non-null  int64  \n",
      " 1   id            149396 non-null  object \n",
      " 2   mb_used       149396 non-null  float64\n",
      " 3   session_date  149396 non-null  object \n",
      " 4   user_id       149396 non-null  int64  \n",
      "dtypes: float64(1), int64(2), object(2)\n",
      "memory usage: 5.7+ MB\n"
     ]
    },
    {
     "data": {
      "text/plain": [
       "None"
      ]
     },
     "metadata": {},
     "output_type": "display_data"
    },
    {
     "data": {
      "text/html": [
       "<div>\n",
       "<style scoped>\n",
       "    .dataframe tbody tr th:only-of-type {\n",
       "        vertical-align: middle;\n",
       "    }\n",
       "\n",
       "    .dataframe tbody tr th {\n",
       "        vertical-align: top;\n",
       "    }\n",
       "\n",
       "    .dataframe thead th {\n",
       "        text-align: right;\n",
       "    }\n",
       "</style>\n",
       "<table border=\"1\" class=\"dataframe\">\n",
       "  <thead>\n",
       "    <tr style=\"text-align: right;\">\n",
       "      <th></th>\n",
       "      <th>Unnamed: 0</th>\n",
       "      <th>id</th>\n",
       "      <th>mb_used</th>\n",
       "      <th>session_date</th>\n",
       "      <th>user_id</th>\n",
       "    </tr>\n",
       "  </thead>\n",
       "  <tbody>\n",
       "    <tr>\n",
       "      <th>0</th>\n",
       "      <td>0</td>\n",
       "      <td>1000_0</td>\n",
       "      <td>112.95</td>\n",
       "      <td>2018-11-25</td>\n",
       "      <td>1000</td>\n",
       "    </tr>\n",
       "    <tr>\n",
       "      <th>1</th>\n",
       "      <td>1</td>\n",
       "      <td>1000_1</td>\n",
       "      <td>1052.81</td>\n",
       "      <td>2018-09-07</td>\n",
       "      <td>1000</td>\n",
       "    </tr>\n",
       "    <tr>\n",
       "      <th>2</th>\n",
       "      <td>2</td>\n",
       "      <td>1000_2</td>\n",
       "      <td>1197.26</td>\n",
       "      <td>2018-06-25</td>\n",
       "      <td>1000</td>\n",
       "    </tr>\n",
       "  </tbody>\n",
       "</table>\n",
       "</div>"
      ],
      "text/plain": [
       "   Unnamed: 0      id  mb_used session_date  user_id\n",
       "0           0  1000_0   112.95   2018-11-25     1000\n",
       "1           1  1000_1  1052.81   2018-09-07     1000\n",
       "2           2  1000_2  1197.26   2018-06-25     1000"
      ]
     },
     "metadata": {},
     "output_type": "display_data"
    },
    {
     "data": {
      "text/plain": [
       "0.00      19598\n",
       "197.56        9\n",
       "447.30        9\n",
       "335.91        9\n",
       "108.95        8\n",
       "          ...  \n",
       "72.49         1\n",
       "846.22        1\n",
       "429.17        1\n",
       "899.03        1\n",
       "483.87        1\n",
       "Name: mb_used, Length: 70003, dtype: int64"
      ]
     },
     "metadata": {},
     "output_type": "display_data"
    },
    {
     "data": {
      "text/html": [
       "<div>\n",
       "<style scoped>\n",
       "    .dataframe tbody tr th:only-of-type {\n",
       "        vertical-align: middle;\n",
       "    }\n",
       "\n",
       "    .dataframe tbody tr th {\n",
       "        vertical-align: top;\n",
       "    }\n",
       "\n",
       "    .dataframe thead th {\n",
       "        text-align: right;\n",
       "    }\n",
       "</style>\n",
       "<table border=\"1\" class=\"dataframe\">\n",
       "  <thead>\n",
       "    <tr style=\"text-align: right;\">\n",
       "      <th></th>\n",
       "      <th>Total missing data</th>\n",
       "      <th>Percent missing data</th>\n",
       "    </tr>\n",
       "  </thead>\n",
       "  <tbody>\n",
       "    <tr>\n",
       "      <th>user_id</th>\n",
       "      <td>0</td>\n",
       "      <td>0.0</td>\n",
       "    </tr>\n",
       "    <tr>\n",
       "      <th>session_date</th>\n",
       "      <td>0</td>\n",
       "      <td>0.0</td>\n",
       "    </tr>\n",
       "    <tr>\n",
       "      <th>mb_used</th>\n",
       "      <td>0</td>\n",
       "      <td>0.0</td>\n",
       "    </tr>\n",
       "    <tr>\n",
       "      <th>id</th>\n",
       "      <td>0</td>\n",
       "      <td>0.0</td>\n",
       "    </tr>\n",
       "    <tr>\n",
       "      <th>Unnamed: 0</th>\n",
       "      <td>0</td>\n",
       "      <td>0.0</td>\n",
       "    </tr>\n",
       "  </tbody>\n",
       "</table>\n",
       "</div>"
      ],
      "text/plain": [
       "              Total missing data  Percent missing data\n",
       "user_id                        0                   0.0\n",
       "session_date                   0                   0.0\n",
       "mb_used                        0                   0.0\n",
       "id                             0                   0.0\n",
       "Unnamed: 0                     0                   0.0"
      ]
     },
     "metadata": {},
     "output_type": "display_data"
    },
    {
     "name": "stdout",
     "output_type": "stream",
     "text": [
      "Дубликаты: 0\n"
     ]
    },
    {
     "data": {
      "text/plain": [
       "<matplotlib.axes._subplots.AxesSubplot at 0x209cb603b48>"
      ]
     },
     "metadata": {},
     "output_type": "display_data"
    },
    {
     "data": {
      "image/png": "[encoded data removed]",
      "text/plain": [
       "<Figure size 432x288 with 1 Axes>"
      ]
     },
     "metadata": {
      "needs_background": "light"
     },
     "output_type": "display_data"
    },
    {
     "data": {
      "image/png": "[encoded data removed]",
      "text/plain": [
       "<Figure size 432x72 with 1 Axes>"
      ]
     },
     "metadata": {
      "needs_background": "light"
     },
     "output_type": "display_data"
    },
    {
     "data": {
      "text/plain": [
       "<matplotlib.axes._subplots.AxesSubplot at 0x209cbf016c8>"
      ]
     },
     "metadata": {},
     "output_type": "display_data"
    },
    {
     "data": {
      "image/png": "[encoded data removed]",
      "text/plain": [
       "<Figure size 432x288 with 1 Axes>"
      ]
     },
     "metadata": {
      "needs_background": "light"
     },
     "output_type": "display_data"
    }
   ],
   "source": [
    "# Смотрим на данные\n",
    "display(inet_raw.info())\n",
    "display(inet_raw.head(3))\n",
    "display(inet_raw['mb_used'].value_counts())\n",
    "display(missing_data(inet_raw))\n",
    "print('Дубликаты:', inet_raw.duplicated().sum())\n",
    "\n",
    "display(inet_raw['mb_used'].hist(bins=100, range=(0, 1500)))\n",
    "plt.title('Распределение трафика (полные данные)')\n",
    "plt.xlabel('Объем')\n",
    "plt.ylabel('Частота')\n",
    "plt.figure(figsize=(6, 1))\n",
    "inet_raw.boxplot('mb_used', vert=False)\n",
    "plt.show()\n",
    "\n",
    "# Проверим в исследовании  2 варианта: полные данные и данные с отброшенными соединениями нулевой длительности\n",
    "inet = inet_raw.query('mb_used > 0').copy()\n",
    "# inet = inet_raw\n",
    "\n",
    "display(inet['mb_used'].hist(bins=100, range=(0, 1500)))\n",
    "plt.title('Распределение трафика (без \"пустых\" соединений)')\n",
    "plt.xlabel('Объем')\n",
    "plt.ylabel('Частота')\n",
    "plt.show()\n",
    "\n",
    "# Фильтруем данные\n",
    "inet = inet.query('mb_used < 1250').copy()"
   ]
  },
  {
   "cell_type": "code",
   "execution_count": 7,
   "metadata": {},
   "outputs": [
    {
     "name": "stdout",
     "output_type": "stream",
     "text": [
      "<class 'pandas.core.frame.DataFrame'>\n",
      "RangeIndex: 123036 entries, 0 to 123035\n",
      "Data columns (total 3 columns):\n",
      " #   Column        Non-Null Count   Dtype \n",
      "---  ------        --------------   ----- \n",
      " 0   id            123036 non-null  object\n",
      " 1   message_date  123036 non-null  object\n",
      " 2   user_id       123036 non-null  int64 \n",
      "dtypes: int64(1), object(2)\n",
      "memory usage: 2.8+ MB\n"
     ]
    },
    {
     "data": {
      "text/plain": [
       "None"
      ]
     },
     "metadata": {},
     "output_type": "display_data"
    },
    {
     "data": {
      "text/html": [
       "<div>\n",
       "<style scoped>\n",
       "    .dataframe tbody tr th:only-of-type {\n",
       "        vertical-align: middle;\n",
       "    }\n",
       "\n",
       "    .dataframe tbody tr th {\n",
       "        vertical-align: top;\n",
       "    }\n",
       "\n",
       "    .dataframe thead th {\n",
       "        text-align: right;\n",
       "    }\n",
       "</style>\n",
       "<table border=\"1\" class=\"dataframe\">\n",
       "  <thead>\n",
       "    <tr style=\"text-align: right;\">\n",
       "      <th></th>\n",
       "      <th>id</th>\n",
       "      <th>message_date</th>\n",
       "      <th>user_id</th>\n",
       "    </tr>\n",
       "  </thead>\n",
       "  <tbody>\n",
       "    <tr>\n",
       "      <th>0</th>\n",
       "      <td>1000_0</td>\n",
       "      <td>2018-06-27</td>\n",
       "      <td>1000</td>\n",
       "    </tr>\n",
       "    <tr>\n",
       "      <th>1</th>\n",
       "      <td>1000_1</td>\n",
       "      <td>2018-10-08</td>\n",
       "      <td>1000</td>\n",
       "    </tr>\n",
       "    <tr>\n",
       "      <th>2</th>\n",
       "      <td>1000_2</td>\n",
       "      <td>2018-08-04</td>\n",
       "      <td>1000</td>\n",
       "    </tr>\n",
       "  </tbody>\n",
       "</table>\n",
       "</div>"
      ],
      "text/plain": [
       "       id message_date  user_id\n",
       "0  1000_0   2018-06-27     1000\n",
       "1  1000_1   2018-10-08     1000\n",
       "2  1000_2   2018-08-04     1000"
      ]
     },
     "metadata": {},
     "output_type": "display_data"
    },
    {
     "data": {
      "text/plain": [
       "2018-01-03      4\n",
       "2018-01-02     10\n",
       "2018-01-05     10\n",
       "2018-01-04     10\n",
       "2018-01-11     12\n",
       "             ... \n",
       "2018-12-26    699\n",
       "2018-12-29    702\n",
       "2018-12-21    712\n",
       "2018-12-30    765\n",
       "2018-12-31    859\n",
       "Name: message_date, Length: 364, dtype: int64"
      ]
     },
     "metadata": {},
     "output_type": "display_data"
    },
    {
     "name": "stdout",
     "output_type": "stream",
     "text": [
      "Дубликаты: 0\n"
     ]
    },
    {
     "data": {
      "text/html": [
       "<div>\n",
       "<style scoped>\n",
       "    .dataframe tbody tr th:only-of-type {\n",
       "        vertical-align: middle;\n",
       "    }\n",
       "\n",
       "    .dataframe tbody tr th {\n",
       "        vertical-align: top;\n",
       "    }\n",
       "\n",
       "    .dataframe thead th {\n",
       "        text-align: right;\n",
       "    }\n",
       "</style>\n",
       "<table border=\"1\" class=\"dataframe\">\n",
       "  <thead>\n",
       "    <tr style=\"text-align: right;\">\n",
       "      <th></th>\n",
       "      <th>Total missing data</th>\n",
       "      <th>Percent missing data</th>\n",
       "    </tr>\n",
       "  </thead>\n",
       "  <tbody>\n",
       "    <tr>\n",
       "      <th>user_id</th>\n",
       "      <td>0</td>\n",
       "      <td>0.0</td>\n",
       "    </tr>\n",
       "    <tr>\n",
       "      <th>message_date</th>\n",
       "      <td>0</td>\n",
       "      <td>0.0</td>\n",
       "    </tr>\n",
       "    <tr>\n",
       "      <th>id</th>\n",
       "      <td>0</td>\n",
       "      <td>0.0</td>\n",
       "    </tr>\n",
       "  </tbody>\n",
       "</table>\n",
       "</div>"
      ],
      "text/plain": [
       "              Total missing data  Percent missing data\n",
       "user_id                        0                   0.0\n",
       "message_date                   0                   0.0\n",
       "id                             0                   0.0"
      ]
     },
     "metadata": {},
     "output_type": "display_data"
    }
   ],
   "source": [
    "# Смотрим на данные\n",
    "display(mes.info())\n",
    "display(mes.head(3))\n",
    "display(mes['message_date'].value_counts().sort_values())\n",
    "print('Дубликаты:', mes.duplicated().sum())\n",
    "display(missing_data(mes))"
   ]
  },
  {
   "cell_type": "code",
   "execution_count": 8,
   "metadata": {},
   "outputs": [
    {
     "name": "stdout",
     "output_type": "stream",
     "text": [
      "<class 'pandas.core.frame.DataFrame'>\n",
      "RangeIndex: 2 entries, 0 to 1\n",
      "Data columns (total 8 columns):\n",
      " #   Column                 Non-Null Count  Dtype \n",
      "---  ------                 --------------  ----- \n",
      " 0   messages_included      2 non-null      int64 \n",
      " 1   mb_per_month_included  2 non-null      int64 \n",
      " 2   minutes_included       2 non-null      int64 \n",
      " 3   rub_monthly_fee        2 non-null      int64 \n",
      " 4   rub_per_gb             2 non-null      int64 \n",
      " 5   rub_per_message        2 non-null      int64 \n",
      " 6   rub_per_minute         2 non-null      int64 \n",
      " 7   tariff_name            2 non-null      object\n",
      "dtypes: int64(7), object(1)\n",
      "memory usage: 256.0+ bytes\n"
     ]
    },
    {
     "data": {
      "text/html": [
       "<div>\n",
       "<style scoped>\n",
       "    .dataframe tbody tr th:only-of-type {\n",
       "        vertical-align: middle;\n",
       "    }\n",
       "\n",
       "    .dataframe tbody tr th {\n",
       "        vertical-align: top;\n",
       "    }\n",
       "\n",
       "    .dataframe thead th {\n",
       "        text-align: right;\n",
       "    }\n",
       "</style>\n",
       "<table border=\"1\" class=\"dataframe\">\n",
       "  <thead>\n",
       "    <tr style=\"text-align: right;\">\n",
       "      <th></th>\n",
       "      <th>messages_included</th>\n",
       "      <th>mb_per_month_included</th>\n",
       "      <th>minutes_included</th>\n",
       "      <th>rub_monthly_fee</th>\n",
       "      <th>rub_per_gb</th>\n",
       "      <th>rub_per_message</th>\n",
       "      <th>rub_per_minute</th>\n",
       "      <th>tariff_name</th>\n",
       "    </tr>\n",
       "  </thead>\n",
       "  <tbody>\n",
       "    <tr>\n",
       "      <th>0</th>\n",
       "      <td>50</td>\n",
       "      <td>15360</td>\n",
       "      <td>500</td>\n",
       "      <td>550</td>\n",
       "      <td>200</td>\n",
       "      <td>3</td>\n",
       "      <td>3</td>\n",
       "      <td>smart</td>\n",
       "    </tr>\n",
       "    <tr>\n",
       "      <th>1</th>\n",
       "      <td>1000</td>\n",
       "      <td>30720</td>\n",
       "      <td>3000</td>\n",
       "      <td>1950</td>\n",
       "      <td>150</td>\n",
       "      <td>1</td>\n",
       "      <td>1</td>\n",
       "      <td>ultra</td>\n",
       "    </tr>\n",
       "  </tbody>\n",
       "</table>\n",
       "</div>"
      ],
      "text/plain": [
       "   messages_included  mb_per_month_included  minutes_included  \\\n",
       "0                 50                  15360               500   \n",
       "1               1000                  30720              3000   \n",
       "\n",
       "   rub_monthly_fee  rub_per_gb  rub_per_message  rub_per_minute tariff_name  \n",
       "0              550         200                3               3       smart  \n",
       "1             1950         150                1               1       ultra  "
      ]
     },
     "execution_count": 8,
     "metadata": {},
     "output_type": "execute_result"
    }
   ],
   "source": [
    "tar.info()\n",
    "tar.head(3)"
   ]
  },
  {
   "cell_type": "code",
   "execution_count": 9,
   "metadata": {},
   "outputs": [
    {
     "name": "stdout",
     "output_type": "stream",
     "text": [
      "<class 'pandas.core.frame.DataFrame'>\n",
      "RangeIndex: 500 entries, 0 to 499\n",
      "Data columns (total 8 columns):\n",
      " #   Column      Non-Null Count  Dtype \n",
      "---  ------      --------------  ----- \n",
      " 0   user_id     500 non-null    int64 \n",
      " 1   age         500 non-null    int64 \n",
      " 2   churn_date  38 non-null     object\n",
      " 3   city        500 non-null    object\n",
      " 4   first_name  500 non-null    object\n",
      " 5   last_name   500 non-null    object\n",
      " 6   reg_date    500 non-null    object\n",
      " 7   tariff      500 non-null    object\n",
      "dtypes: int64(2), object(6)\n",
      "memory usage: 31.4+ KB\n"
     ]
    },
    {
     "data": {
      "text/plain": [
       "None"
      ]
     },
     "metadata": {},
     "output_type": "display_data"
    },
    {
     "data": {
      "text/html": [
       "<div>\n",
       "<style scoped>\n",
       "    .dataframe tbody tr th:only-of-type {\n",
       "        vertical-align: middle;\n",
       "    }\n",
       "\n",
       "    .dataframe tbody tr th {\n",
       "        vertical-align: top;\n",
       "    }\n",
       "\n",
       "    .dataframe thead th {\n",
       "        text-align: right;\n",
       "    }\n",
       "</style>\n",
       "<table border=\"1\" class=\"dataframe\">\n",
       "  <thead>\n",
       "    <tr style=\"text-align: right;\">\n",
       "      <th></th>\n",
       "      <th>user_id</th>\n",
       "      <th>age</th>\n",
       "      <th>churn_date</th>\n",
       "      <th>city</th>\n",
       "      <th>first_name</th>\n",
       "      <th>last_name</th>\n",
       "      <th>reg_date</th>\n",
       "      <th>tariff</th>\n",
       "    </tr>\n",
       "  </thead>\n",
       "  <tbody>\n",
       "    <tr>\n",
       "      <th>0</th>\n",
       "      <td>1000</td>\n",
       "      <td>52</td>\n",
       "      <td>NaN</td>\n",
       "      <td>Краснодар</td>\n",
       "      <td>Рафаил</td>\n",
       "      <td>Верещагин</td>\n",
       "      <td>2018-05-25</td>\n",
       "      <td>ultra</td>\n",
       "    </tr>\n",
       "    <tr>\n",
       "      <th>1</th>\n",
       "      <td>1001</td>\n",
       "      <td>41</td>\n",
       "      <td>NaN</td>\n",
       "      <td>Москва</td>\n",
       "      <td>Иван</td>\n",
       "      <td>Ежов</td>\n",
       "      <td>2018-11-01</td>\n",
       "      <td>smart</td>\n",
       "    </tr>\n",
       "    <tr>\n",
       "      <th>2</th>\n",
       "      <td>1002</td>\n",
       "      <td>59</td>\n",
       "      <td>NaN</td>\n",
       "      <td>Стерлитамак</td>\n",
       "      <td>Евгений</td>\n",
       "      <td>Абрамович</td>\n",
       "      <td>2018-06-17</td>\n",
       "      <td>smart</td>\n",
       "    </tr>\n",
       "  </tbody>\n",
       "</table>\n",
       "</div>"
      ],
      "text/plain": [
       "   user_id  age churn_date         city first_name  last_name    reg_date  \\\n",
       "0     1000   52        NaN    Краснодар     Рафаил  Верещагин  2018-05-25   \n",
       "1     1001   41        NaN       Москва       Иван       Ежов  2018-11-01   \n",
       "2     1002   59        NaN  Стерлитамак    Евгений  Абрамович  2018-06-17   \n",
       "\n",
       "  tariff  \n",
       "0  ultra  \n",
       "1  smart  \n",
       "2  smart  "
      ]
     },
     "metadata": {},
     "output_type": "display_data"
    },
    {
     "name": "stdout",
     "output_type": "stream",
     "text": [
      "Дубликаты: 0\n"
     ]
    },
    {
     "data": {
      "text/plain": [
       "smart    351\n",
       "ultra    149\n",
       "Name: tariff, dtype: int64"
      ]
     },
     "metadata": {},
     "output_type": "display_data"
    }
   ],
   "source": [
    "display(users.info())\n",
    "display(users.head(3))\n",
    "print('Дубликаты:', users.duplicated().sum())\n",
    "display(users['tariff'].value_counts())"
   ]
  },
  {
   "cell_type": "markdown",
   "metadata": {},
   "source": [
    "#### Результаты предварительного анализа данных\n",
    "---\n",
    "- Пропущенные данные обнаружены в столбце `churn_date`.\n",
    "- Аномальные значения отсутствуют. Имеются выбросы в длительности звонков и объеме трафика, их отфильтровали.\n",
    "- Имеется большое количество звонков и интернет-сессий с нулевыми значениями\n",
    "- Типы данных в интересующих нас столбцах соответствуют содержимому, кроме столбцов с датами. Их преобразуем при добавлении сведений о месяце совершенных действий."
   ]
  },
  {
   "cell_type": "markdown",
   "metadata": {},
   "source": [
    "#### Преобразуем интересующие нас данные"
   ]
  },
  {
   "cell_type": "code",
   "execution_count": 10,
   "metadata": {},
   "outputs": [],
   "source": [
    "# Устанавливаем user_id в качестве индекса\n",
    "users.set_index('user_id', inplace=True)\n",
    "\n",
    "# Удаляем столбец \"Unnamed: 0\", он дублирует index\n",
    "inet.drop(['Unnamed: 0'], axis='columns', inplace=True)\n",
    "\n",
    "# Добавляем месяц совершенного действия, предварительно изменив тип данных\n",
    "сalls['call_month'] = pd.to_datetime(сalls['call_date'], format='%Y-%m-%d').dt.month\n",
    "# display(сalls)\n",
    "\n",
    "mes['mes_month'] = pd.to_datetime(mes['message_date'], format='%Y-%m-%d').dt.month\n",
    "# display(mes)\n",
    "\n",
    "inet['inet_month'] = pd.to_datetime(inet['session_date'], format='%Y-%m-%d').dt.month\n",
    "# display(inet)"
   ]
  },
  {
   "cell_type": "markdown",
   "metadata": {},
   "source": [
    "#### Формируем сводную таблицу и добавляем необходимые данные"
   ]
  },
  {
   "cell_type": "code",
   "execution_count": 11,
   "metadata": {
    "scrolled": false
   },
   "outputs": [
    {
     "name": "stderr",
     "output_type": "stream",
     "text": [
      "C:\\Users\\iserg\\anaconda3\\envs\\First\\lib\\site-packages\\pandas\\core\\generic.py:3936: PerformanceWarning: dropping on a non-lexsorted multi-index without a level parameter may impact performance.\n",
      "  obj = obj._drop_axis(labels, axis, level=level, errors=errors)\n"
     ]
    },
    {
     "data": {
      "text/html": [
       "<div>\n",
       "<style scoped>\n",
       "    .dataframe tbody tr th:only-of-type {\n",
       "        vertical-align: middle;\n",
       "    }\n",
       "\n",
       "    .dataframe tbody tr th {\n",
       "        vertical-align: top;\n",
       "    }\n",
       "\n",
       "    .dataframe thead tr th {\n",
       "        text-align: left;\n",
       "    }\n",
       "</style>\n",
       "<table border=\"1\" class=\"dataframe\">\n",
       "  <thead>\n",
       "    <tr>\n",
       "      <th></th>\n",
       "      <th>user_id</th>\n",
       "      <th>call_month</th>\n",
       "      <th colspan=\"2\" halign=\"left\">duration</th>\n",
       "      <th>mes_month</th>\n",
       "      <th>message_date</th>\n",
       "      <th>call_mes_month</th>\n",
       "      <th>inet_month</th>\n",
       "      <th colspan=\"2\" halign=\"left\">mb_used</th>\n",
       "      <th>...</th>\n",
       "      <th>minutes_included</th>\n",
       "      <th>rub_monthly_fee</th>\n",
       "      <th>rub_per_gb</th>\n",
       "      <th>rub_per_message</th>\n",
       "      <th>rub_per_minute</th>\n",
       "      <th>tariff_name</th>\n",
       "      <th colspan=\"3\" halign=\"left\">higher_tariff</th>\n",
       "      <th>revenue</th>\n",
       "    </tr>\n",
       "    <tr>\n",
       "      <th></th>\n",
       "      <th></th>\n",
       "      <th></th>\n",
       "      <th>sum</th>\n",
       "      <th>count</th>\n",
       "      <th></th>\n",
       "      <th>count</th>\n",
       "      <th></th>\n",
       "      <th></th>\n",
       "      <th>count</th>\n",
       "      <th>sum</th>\n",
       "      <th>...</th>\n",
       "      <th></th>\n",
       "      <th></th>\n",
       "      <th></th>\n",
       "      <th></th>\n",
       "      <th></th>\n",
       "      <th></th>\n",
       "      <th>inet</th>\n",
       "      <th>messages</th>\n",
       "      <th>call</th>\n",
       "      <th></th>\n",
       "    </tr>\n",
       "  </thead>\n",
       "  <tbody>\n",
       "    <tr>\n",
       "      <th>0</th>\n",
       "      <td>1000</td>\n",
       "      <td>5</td>\n",
       "      <td>150.06</td>\n",
       "      <td>17.0</td>\n",
       "      <td>5</td>\n",
       "      <td>22.0</td>\n",
       "      <td>5.0</td>\n",
       "      <td>5</td>\n",
       "      <td>4.0</td>\n",
       "      <td>2253.49</td>\n",
       "      <td>...</td>\n",
       "      <td>3000</td>\n",
       "      <td>1950</td>\n",
       "      <td>150</td>\n",
       "      <td>1</td>\n",
       "      <td>1</td>\n",
       "      <td>ultra</td>\n",
       "      <td>0.0</td>\n",
       "      <td>0.0</td>\n",
       "      <td>0.0</td>\n",
       "      <td>1950.0</td>\n",
       "    </tr>\n",
       "    <tr>\n",
       "      <th>1</th>\n",
       "      <td>1000</td>\n",
       "      <td>6</td>\n",
       "      <td>158.90</td>\n",
       "      <td>28.0</td>\n",
       "      <td>6</td>\n",
       "      <td>60.0</td>\n",
       "      <td>6.0</td>\n",
       "      <td>6</td>\n",
       "      <td>44.0</td>\n",
       "      <td>23233.77</td>\n",
       "      <td>...</td>\n",
       "      <td>3000</td>\n",
       "      <td>1950</td>\n",
       "      <td>150</td>\n",
       "      <td>1</td>\n",
       "      <td>1</td>\n",
       "      <td>ultra</td>\n",
       "      <td>0.0</td>\n",
       "      <td>0.0</td>\n",
       "      <td>0.0</td>\n",
       "      <td>1950.0</td>\n",
       "    </tr>\n",
       "    <tr>\n",
       "      <th>2</th>\n",
       "      <td>1000</td>\n",
       "      <td>7</td>\n",
       "      <td>318.80</td>\n",
       "      <td>41.0</td>\n",
       "      <td>7</td>\n",
       "      <td>75.0</td>\n",
       "      <td>7.0</td>\n",
       "      <td>7</td>\n",
       "      <td>28.0</td>\n",
       "      <td>14003.64</td>\n",
       "      <td>...</td>\n",
       "      <td>3000</td>\n",
       "      <td>1950</td>\n",
       "      <td>150</td>\n",
       "      <td>1</td>\n",
       "      <td>1</td>\n",
       "      <td>ultra</td>\n",
       "      <td>0.0</td>\n",
       "      <td>0.0</td>\n",
       "      <td>0.0</td>\n",
       "      <td>1950.0</td>\n",
       "    </tr>\n",
       "    <tr>\n",
       "      <th>3</th>\n",
       "      <td>1000</td>\n",
       "      <td>8</td>\n",
       "      <td>389.87</td>\n",
       "      <td>42.0</td>\n",
       "      <td>8</td>\n",
       "      <td>81.0</td>\n",
       "      <td>8.0</td>\n",
       "      <td>8</td>\n",
       "      <td>27.0</td>\n",
       "      <td>14055.93</td>\n",
       "      <td>...</td>\n",
       "      <td>3000</td>\n",
       "      <td>1950</td>\n",
       "      <td>150</td>\n",
       "      <td>1</td>\n",
       "      <td>1</td>\n",
       "      <td>ultra</td>\n",
       "      <td>0.0</td>\n",
       "      <td>0.0</td>\n",
       "      <td>0.0</td>\n",
       "      <td>1950.0</td>\n",
       "    </tr>\n",
       "    <tr>\n",
       "      <th>4</th>\n",
       "      <td>1000</td>\n",
       "      <td>9</td>\n",
       "      <td>440.14</td>\n",
       "      <td>46.0</td>\n",
       "      <td>9</td>\n",
       "      <td>57.0</td>\n",
       "      <td>9.0</td>\n",
       "      <td>9</td>\n",
       "      <td>25.0</td>\n",
       "      <td>14568.91</td>\n",
       "      <td>...</td>\n",
       "      <td>3000</td>\n",
       "      <td>1950</td>\n",
       "      <td>150</td>\n",
       "      <td>1</td>\n",
       "      <td>1</td>\n",
       "      <td>ultra</td>\n",
       "      <td>0.0</td>\n",
       "      <td>0.0</td>\n",
       "      <td>0.0</td>\n",
       "      <td>1950.0</td>\n",
       "    </tr>\n",
       "    <tr>\n",
       "      <th>...</th>\n",
       "      <td>...</td>\n",
       "      <td>...</td>\n",
       "      <td>...</td>\n",
       "      <td>...</td>\n",
       "      <td>...</td>\n",
       "      <td>...</td>\n",
       "      <td>...</td>\n",
       "      <td>...</td>\n",
       "      <td>...</td>\n",
       "      <td>...</td>\n",
       "      <td>...</td>\n",
       "      <td>...</td>\n",
       "      <td>...</td>\n",
       "      <td>...</td>\n",
       "      <td>...</td>\n",
       "      <td>...</td>\n",
       "      <td>...</td>\n",
       "      <td>...</td>\n",
       "      <td>...</td>\n",
       "      <td>...</td>\n",
       "      <td>...</td>\n",
       "    </tr>\n",
       "    <tr>\n",
       "      <th>3209</th>\n",
       "      <td>1489</td>\n",
       "      <td>&lt;NA&gt;</td>\n",
       "      <td>NaN</td>\n",
       "      <td>NaN</td>\n",
       "      <td>10</td>\n",
       "      <td>21.0</td>\n",
       "      <td>10.0</td>\n",
       "      <td>10</td>\n",
       "      <td>52.0</td>\n",
       "      <td>19559.44</td>\n",
       "      <td>...</td>\n",
       "      <td>500</td>\n",
       "      <td>550</td>\n",
       "      <td>200</td>\n",
       "      <td>3</td>\n",
       "      <td>3</td>\n",
       "      <td>smart</td>\n",
       "      <td>800.0</td>\n",
       "      <td>0.0</td>\n",
       "      <td>0.0</td>\n",
       "      <td>1350.0</td>\n",
       "    </tr>\n",
       "    <tr>\n",
       "      <th>3210</th>\n",
       "      <td>1489</td>\n",
       "      <td>&lt;NA&gt;</td>\n",
       "      <td>NaN</td>\n",
       "      <td>NaN</td>\n",
       "      <td>11</td>\n",
       "      <td>20.0</td>\n",
       "      <td>11.0</td>\n",
       "      <td>11</td>\n",
       "      <td>45.0</td>\n",
       "      <td>17491.56</td>\n",
       "      <td>...</td>\n",
       "      <td>500</td>\n",
       "      <td>550</td>\n",
       "      <td>200</td>\n",
       "      <td>3</td>\n",
       "      <td>3</td>\n",
       "      <td>smart</td>\n",
       "      <td>400.0</td>\n",
       "      <td>0.0</td>\n",
       "      <td>0.0</td>\n",
       "      <td>950.0</td>\n",
       "    </tr>\n",
       "    <tr>\n",
       "      <th>3211</th>\n",
       "      <td>1489</td>\n",
       "      <td>&lt;NA&gt;</td>\n",
       "      <td>NaN</td>\n",
       "      <td>NaN</td>\n",
       "      <td>12</td>\n",
       "      <td>35.0</td>\n",
       "      <td>12.0</td>\n",
       "      <td>12</td>\n",
       "      <td>43.0</td>\n",
       "      <td>17322.51</td>\n",
       "      <td>...</td>\n",
       "      <td>500</td>\n",
       "      <td>550</td>\n",
       "      <td>200</td>\n",
       "      <td>3</td>\n",
       "      <td>3</td>\n",
       "      <td>smart</td>\n",
       "      <td>200.0</td>\n",
       "      <td>0.0</td>\n",
       "      <td>0.0</td>\n",
       "      <td>750.0</td>\n",
       "    </tr>\n",
       "    <tr>\n",
       "      <th>3212</th>\n",
       "      <td>1240</td>\n",
       "      <td>&lt;NA&gt;</td>\n",
       "      <td>NaN</td>\n",
       "      <td>NaN</td>\n",
       "      <td>&lt;NA&gt;</td>\n",
       "      <td>NaN</td>\n",
       "      <td>NaN</td>\n",
       "      <td>2</td>\n",
       "      <td>3.0</td>\n",
       "      <td>959.51</td>\n",
       "      <td>...</td>\n",
       "      <td>3000</td>\n",
       "      <td>1950</td>\n",
       "      <td>150</td>\n",
       "      <td>1</td>\n",
       "      <td>1</td>\n",
       "      <td>ultra</td>\n",
       "      <td>0.0</td>\n",
       "      <td>0.0</td>\n",
       "      <td>0.0</td>\n",
       "      <td>1950.0</td>\n",
       "    </tr>\n",
       "    <tr>\n",
       "      <th>3213</th>\n",
       "      <td>1476</td>\n",
       "      <td>&lt;NA&gt;</td>\n",
       "      <td>NaN</td>\n",
       "      <td>NaN</td>\n",
       "      <td>&lt;NA&gt;</td>\n",
       "      <td>NaN</td>\n",
       "      <td>NaN</td>\n",
       "      <td>4</td>\n",
       "      <td>1.0</td>\n",
       "      <td>530.78</td>\n",
       "      <td>...</td>\n",
       "      <td>3000</td>\n",
       "      <td>1950</td>\n",
       "      <td>150</td>\n",
       "      <td>1</td>\n",
       "      <td>1</td>\n",
       "      <td>ultra</td>\n",
       "      <td>0.0</td>\n",
       "      <td>0.0</td>\n",
       "      <td>0.0</td>\n",
       "      <td>1950.0</td>\n",
       "    </tr>\n",
       "  </tbody>\n",
       "</table>\n",
       "<p>3214 rows × 25 columns</p>\n",
       "</div>"
      ],
      "text/plain": [
       "     user_id call_month duration       mes_month message_date call_mes_month  \\\n",
       "                             sum count                  count                  \n",
       "0       1000          5   150.06  17.0         5         22.0            5.0   \n",
       "1       1000          6   158.90  28.0         6         60.0            6.0   \n",
       "2       1000          7   318.80  41.0         7         75.0            7.0   \n",
       "3       1000          8   389.87  42.0         8         81.0            8.0   \n",
       "4       1000          9   440.14  46.0         9         57.0            9.0   \n",
       "...      ...        ...      ...   ...       ...          ...            ...   \n",
       "3209    1489       <NA>      NaN   NaN        10         21.0           10.0   \n",
       "3210    1489       <NA>      NaN   NaN        11         20.0           11.0   \n",
       "3211    1489       <NA>      NaN   NaN        12         35.0           12.0   \n",
       "3212    1240       <NA>      NaN   NaN      <NA>          NaN            NaN   \n",
       "3213    1476       <NA>      NaN   NaN      <NA>          NaN            NaN   \n",
       "\n",
       "     inet_month mb_used            ... minutes_included rub_monthly_fee  \\\n",
       "                  count       sum  ...                                    \n",
       "0             5     4.0   2253.49  ...             3000            1950   \n",
       "1             6    44.0  23233.77  ...             3000            1950   \n",
       "2             7    28.0  14003.64  ...             3000            1950   \n",
       "3             8    27.0  14055.93  ...             3000            1950   \n",
       "4             9    25.0  14568.91  ...             3000            1950   \n",
       "...         ...     ...       ...  ...              ...             ...   \n",
       "3209         10    52.0  19559.44  ...              500             550   \n",
       "3210         11    45.0  17491.56  ...              500             550   \n",
       "3211         12    43.0  17322.51  ...              500             550   \n",
       "3212          2     3.0    959.51  ...             3000            1950   \n",
       "3213          4     1.0    530.78  ...             3000            1950   \n",
       "\n",
       "     rub_per_gb rub_per_message rub_per_minute tariff_name higher_tariff  \\\n",
       "                                                                    inet   \n",
       "0           150               1              1       ultra           0.0   \n",
       "1           150               1              1       ultra           0.0   \n",
       "2           150               1              1       ultra           0.0   \n",
       "3           150               1              1       ultra           0.0   \n",
       "4           150               1              1       ultra           0.0   \n",
       "...         ...             ...            ...         ...           ...   \n",
       "3209        200               3              3       smart         800.0   \n",
       "3210        200               3              3       smart         400.0   \n",
       "3211        200               3              3       smart         200.0   \n",
       "3212        150               1              1       ultra           0.0   \n",
       "3213        150               1              1       ultra           0.0   \n",
       "\n",
       "                   revenue  \n",
       "     messages call          \n",
       "0         0.0  0.0  1950.0  \n",
       "1         0.0  0.0  1950.0  \n",
       "2         0.0  0.0  1950.0  \n",
       "3         0.0  0.0  1950.0  \n",
       "4         0.0  0.0  1950.0  \n",
       "...       ...  ...     ...  \n",
       "3209      0.0  0.0  1350.0  \n",
       "3210      0.0  0.0   950.0  \n",
       "3211      0.0  0.0   750.0  \n",
       "3212      0.0  0.0  1950.0  \n",
       "3213      0.0  0.0  1950.0  \n",
       "\n",
       "[3214 rows x 25 columns]"
      ]
     },
     "metadata": {},
     "output_type": "display_data"
    }
   ],
   "source": [
    "# Группируем по пользователю и месяцу\n",
    "calls_gr = сalls.groupby(['user_id', 'call_month']).agg({'duration':['sum', 'count']}).reset_index()\n",
    "# display(calls_gr)\n",
    "\n",
    "mes_gr = mes.groupby(['user_id', 'mes_month']).agg({'message_date':['count']}).reset_index()\n",
    "# display(mes_gr)\n",
    "\n",
    "inet_gr = inet.groupby(['user_id', 'inet_month']).agg({'mb_used':['count', 'sum']}).reset_index()\n",
    "# display(inet_gr)\n",
    "\n",
    "# Объединяем все в сводную таблицу\n",
    "cmi_gr_cm = (calls_gr\n",
    "    .merge(mes_gr, how='outer', left_on=['user_id','call_month'], right_on=['user_id','mes_month'])\n",
    ")\n",
    "# Добавляем столбец с объединенными месяцами\n",
    "cmi_gr_cm['call_mes_month'] = cmi_gr_cm['call_month'].combine_first(cmi_gr_cm['mes_month'])\n",
    "# display(missing_data(cmi_gr_cm))\n",
    "\n",
    "# Добавляем данные по интернету\n",
    "cmi_gr = (cmi_gr_cm\n",
    "    .merge(inet_gr, how='outer', left_on=['user_id','call_mes_month'], right_on=['user_id','inet_month'])\n",
    ")\n",
    "# display(cmi_gr)\n",
    "\n",
    "# Меняем тип переменнных после объединения\n",
    "cmi_gr[[('call_month',''), ('mes_month',''), ('inet_month','')]] = (\n",
    "    cmi_gr[[('call_month',''), ('mes_month',''), ('inet_month','')]].astype('Int64')\n",
    ")\n",
    "# display(cmi_gr)\n",
    "\n",
    "# Добавляем тариф в сводную таблицу\n",
    "def add_tariff(row):\n",
    "    return users.loc[row[('user_id', '')], 'tariff']\n",
    "    \n",
    "cmi_gr[('tariff', 'name')] = cmi_gr.apply(add_tariff, axis=1)\n",
    "# display(cmi_gr)\n",
    "\n",
    "# Добавляем признак Москвы в сводную таблицу\n",
    "def add_Moscow(row):\n",
    "    return users.loc[row[('user_id', '')], 'city'] == 'Москва'\n",
    "    \n",
    "cmi_gr[('is_moscow', '')] = cmi_gr.apply(add_Moscow, axis=1)\n",
    "# display(cmi_gr)\n",
    "\n",
    "# добавим уровень в индекс для объединения\n",
    "tar_mod = tar.reset_index()\n",
    "tar_mod.columns = pd.MultiIndex.from_product([tar_mod.columns, ['']])\n",
    "# display(tar_mod)\n",
    "\n",
    "# Добавляем в сводную таблицу параметры тарифов\n",
    "cmi_gr_tar = cmi_gr.merge(tar_mod, left_on=[('tariff', 'name')], right_on=[('tariff_name', '')], how='left')\n",
    "# display(cmi_gr_tar)\n",
    "\n",
    "# Считаем затраты на интернет сверх тарифа\n",
    "cmi_gr_tar[('higher_tariff', 'inet')] = (\n",
    "    np.floor((np.ceil(cmi_gr_tar[('mb_used', 'sum')])-cmi_gr_tar[('mb_per_month_included', '')]).clip(0, None)/1024)\n",
    "    *cmi_gr_tar[('rub_per_gb', '')]\n",
    ")\n",
    "\n",
    "# Считаем затраты на сообщения сверх тарифа\n",
    "cmi_gr_tar[('higher_tariff', 'messages')] = (\n",
    "    (cmi_gr_tar[('message_date', 'count')]-cmi_gr_tar[('messages_included', '')]).clip(0, None)\n",
    "    *cmi_gr_tar[('rub_per_message', '')]\n",
    ")\n",
    "\n",
    "# Считаем затраты на звонки сверх тарифа\n",
    "cmi_gr_tar[('higher_tariff', 'call')] = (\n",
    "    (np.ceil(cmi_gr_tar[('duration', 'sum')])-cmi_gr_tar[('minutes_included', '')]).clip(0, None)\n",
    "    *cmi_gr_tar[('rub_per_minute', '')]\n",
    ")\n",
    "\n",
    "# Заполняем пропущенные значения нулями\n",
    "cmi_gr_tar[('higher_tariff','inet')].fillna(0, inplace=True)\n",
    "cmi_gr_tar[('higher_tariff','messages')].fillna(0, inplace=True)\n",
    "cmi_gr_tar[('higher_tariff','call')].fillna(0, inplace=True)\n",
    "# ??? Передача списком почему-то не работает ???\n",
    "# cmi_gr_tar[[('higher_tariff','inet'), ('higher_tariff','messages'), ('higher_tariff','call')]].fillna(0, inplace=True)\n",
    "\n",
    "# Считаем выручку\n",
    "cmi_gr_tar['revenue'] = (\n",
    "    cmi_gr_tar[('higher_tariff','inet')]\n",
    "    +cmi_gr_tar[('higher_tariff','messages')]\n",
    "    +cmi_gr_tar[('higher_tariff','call')]\n",
    "    +cmi_gr_tar[('rub_monthly_fee')]\n",
    ")\n",
    "display(cmi_gr_tar)"
   ]
  },
  {
   "cell_type": "markdown",
   "metadata": {},
   "source": [
    "#### Делим на тарифы Смарт и Ультра"
   ]
  },
  {
   "cell_type": "code",
   "execution_count": 12,
   "metadata": {},
   "outputs": [],
   "source": [
    "# Разделение на тарифы Смарт и Ультра\n",
    "all_smart = cmi_gr_tar[cmi_gr_tar[('tariff_name','')] == 'smart']\n",
    "# display('smart:', all_smart)\n",
    "all_ultra = cmi_gr_tar[cmi_gr_tar[('tariff_name','')] == 'ultra']\n",
    "# display('ultra:', all_ultra)"
   ]
  },
  {
   "cell_type": "code",
   "execution_count": 13,
   "metadata": {},
   "outputs": [],
   "source": [
    "# Функция для преобразования датафрейма в серию\n",
    "def df_to_series(df):\n",
    "    L=[]\n",
    "    for m in df.values.tolist():\n",
    "        L += m\n",
    "    return pd.Series(L)\n",
    "\n",
    "# Функция вывода статистики\n",
    "def print_stat(ser):\n",
    "    print('Среднее:', ser.mean().round(1))\n",
    "    print('Медиана:', ser.median().round(1))\n",
    "    print('Дисперсия:', np.var(ser, ddof=1).round(1))\n",
    "    print('Стандартное отклонение:', np.std(ser, ddof=1).round(1), '\\n')"
   ]
  },
  {
   "cell_type": "markdown",
   "metadata": {},
   "source": [
    "### Длительность звонков"
   ]
  },
  {
   "cell_type": "code",
   "execution_count": 14,
   "metadata": {},
   "outputs": [
    {
     "name": "stdout",
     "output_type": "stream",
     "text": [
      "Статистика по тарифу \"Смарт\":\n",
      "Среднее: 390.6\n",
      "Медиана: 391.6\n",
      "Дисперсия: 31069.2\n",
      "Стандартное отклонение: 176.3 \n",
      "\n",
      "Статистика по тарифу \"Ультра\":\n",
      "Среднее: 509.8\n",
      "Медиана: 489.9\n",
      "Дисперсия: 81088.4\n",
      "Стандартное отклонение: 284.8 \n",
      "\n"
     ]
    },
    {
     "data": {
      "text/plain": [
       "<matplotlib.axes._subplots.AxesSubplot at 0x209cbebafc8>"
      ]
     },
     "metadata": {},
     "output_type": "display_data"
    },
    {
     "data": {
      "text/plain": [
       "<matplotlib.axes._subplots.AxesSubplot at 0x209cbebafc8>"
      ]
     },
     "metadata": {},
     "output_type": "display_data"
    },
    {
     "data": {
      "text/plain": [
       "<matplotlib.legend.Legend at 0x209cc07d8c8>"
      ]
     },
     "execution_count": 14,
     "metadata": {},
     "output_type": "execute_result"
    },
    {
     "data": {
      "image/png": "[encoded data removed]",
      "text/plain": [
       "<Figure size 432x288 with 1 Axes>"
      ]
     },
     "metadata": {
      "needs_background": "light"
     },
     "output_type": "display_data"
    }
   ],
   "source": [
    "# Сводная таблица длительности звонков\n",
    "smart_call_pt_bymonth = all_smart.pivot_table(index=[('call_month','')], columns=[('user_id','')], aggfunc={('duration','sum'):['sum']})\n",
    "# display(smart_call_pt_bymonth)\n",
    "\n",
    "ultra_call_pt_bymonth = all_ultra.pivot_table(index=[('call_month','')], columns=[('user_id','')], aggfunc={('duration','sum'):['sum']})\n",
    "# display(ultra_call_pt_bymonth)\n",
    "    \n",
    "calls_smart = df_to_series(smart_call_pt_bymonth)\n",
    "print('Статистика по тарифу \"Смарт\":')\n",
    "print_stat(calls_smart)\n",
    "\n",
    "calls_ultra = df_to_series(ultra_call_pt_bymonth)\n",
    "print('Статистика по тарифу \"Ультра\":')\n",
    "print_stat(calls_ultra)\n",
    "\n",
    "display(calls_smart.hist(bins=50, alpha=0.7, label='Смарт'))\n",
    "display(calls_ultra.hist(bins=50, alpha=0.7, label='Ультра'))\n",
    "plt.title('Распределение длительности звонков')\n",
    "plt.xlabel('Длительность')\n",
    "plt.ylabel('Частота')\n",
    "plt.legend()"
   ]
  },
  {
   "cell_type": "markdown",
   "metadata": {},
   "source": [
    "#### Вывод\n",
    "---\n",
    "Тариф \"Смарт\":\n",
    "- пользователи разговаривают в среднем 390.6 минут в месяц\n",
    "- стандартное отклонение по выборке 176.3 \n",
    "- дисперсия по выборке 31069.2\n",
    "- гистограмма близка к нормальному распределению, имеет скошенность влево\n",
    "---\n",
    "Тариф \"Ультра\":\n",
    "- пользователи разговаривают в среднем 509.8 минут в месяц\n",
    "- стандартное отклонение по выборке 284.8\n",
    "- дисперсия по выборке 81088.4\n",
    "- гистограмма близка к нормальному распределению, имеет скошенность вправо\n",
    "---\n",
    "В среднем пользователи тарифа \"Ультра\" разговаривают больше в 1.3 раза.\n",
    "\n",
    "Наличие в исследуемых данных звонков с нулевой длительностью практически не оказывает влияния на результат."
   ]
  },
  {
   "cell_type": "markdown",
   "metadata": {},
   "source": [
    "### Количество сообщений"
   ]
  },
  {
   "cell_type": "code",
   "execution_count": 15,
   "metadata": {},
   "outputs": [
    {
     "name": "stdout",
     "output_type": "stream",
     "text": [
      "Статистика по тарифу \"Смарт\":\n",
      "Среднее: 33.4\n",
      "Медиана: 28.0\n",
      "Дисперсия: 799.2\n",
      "Стандартное отклонение: 28.3 \n",
      "\n",
      "Статистика по тарифу \"Ультра\":\n",
      "Среднее: 48.8\n",
      "Медиана: 39.0\n",
      "Дисперсия: 2171.7\n",
      "Стандартное отклонение: 46.6 \n",
      "\n"
     ]
    },
    {
     "data": {
      "text/plain": [
       "<matplotlib.axes._subplots.AxesSubplot at 0x209cafa6ec8>"
      ]
     },
     "metadata": {},
     "output_type": "display_data"
    },
    {
     "data": {
      "text/plain": [
       "<matplotlib.axes._subplots.AxesSubplot at 0x209cafa6ec8>"
      ]
     },
     "metadata": {},
     "output_type": "display_data"
    },
    {
     "data": {
      "image/png": "[encoded data removed]",
      "text/plain": [
       "<Figure size 432x288 with 1 Axes>"
      ]
     },
     "metadata": {
      "needs_background": "light"
     },
     "output_type": "display_data"
    },
    {
     "data": {
      "text/plain": [
       "<matplotlib.axes._subplots.AxesSubplot at 0x209cc0cdb08>"
      ]
     },
     "metadata": {},
     "output_type": "display_data"
    },
    {
     "data": {
      "text/plain": [
       "<matplotlib.axes._subplots.AxesSubplot at 0x209cc0cdb08>"
      ]
     },
     "metadata": {},
     "output_type": "display_data"
    },
    {
     "data": {
      "text/plain": [
       "<matplotlib.legend.Legend at 0x209caf5c608>"
      ]
     },
     "execution_count": 15,
     "metadata": {},
     "output_type": "execute_result"
    },
    {
     "data": {
      "image/png": "[encoded data removed]",
      "text/plain": [
       "<Figure size 432x288 with 1 Axes>"
      ]
     },
     "metadata": {
      "needs_background": "light"
     },
     "output_type": "display_data"
    }
   ],
   "source": [
    "# Сводная таблица количества сообщений\n",
    "smart_mes_pt_bymonth = all_smart.pivot_table(index=[('call_month','')], columns=[('user_id','')], aggfunc={('message_date','count'):['sum']})\n",
    "# display(smart_mes_pt_bymonth)\n",
    "\n",
    "ultra_mes_pt_bymonth = all_ultra.pivot_table(index=[('call_month','')], columns=[('user_id','')], aggfunc={('message_date','count'):['sum']})\n",
    "# display(ultra_mes_pt_bymonth)\n",
    "    \n",
    "mes_smart = df_to_series(smart_mes_pt_bymonth)\n",
    "print('Статистика по тарифу \"Смарт\":')\n",
    "print_stat(mes_smart)\n",
    "# print(mes_smart.value_counts())\n",
    "\n",
    "mes_ultra = df_to_series(ultra_mes_pt_bymonth)\n",
    "print('Статистика по тарифу \"Ультра\":')\n",
    "print_stat(mes_ultra)\n",
    "# print(mes_ultra.value_counts())\n",
    "\n",
    "display(mes_smart.hist(bins=50, alpha=0.7, label='Смарт'))\n",
    "display(mes_ultra.hist(bins=50, alpha=0.7, label='Ультра'))\n",
    "plt.title('Распределение количества сообщений')\n",
    "plt.xlabel('Количество сообщений')\n",
    "plt.ylabel('Частота')\n",
    "plt.legend()\n",
    "plt.show()\n",
    "\n",
    "display(mes_smart.hist(bins=50, alpha=0.7, label='Смарт'))\n",
    "display(mes_ultra.hist(bins=50, alpha=0.7, label='Ультра'))\n",
    "plt.ylim(0, 100)\n",
    "plt.title('Распределение количества сообщений')\n",
    "plt.xlabel('Количество сообщений')\n",
    "plt.ylabel('Частота')\n",
    "plt.legend()"
   ]
  },
  {
   "cell_type": "markdown",
   "metadata": {},
   "source": [
    "#### Вывод\n",
    "---\n",
    "Тариф \"Смарт\":\n",
    "- пользователи отправляют в среднем 33.4 сообщения в месяц\n",
    "- стандартное отклонение по выборке 28.3\n",
    "- дисперсия по выборке 799.2\n",
    "- без учета нулевых значений гистограмма похожа на нормальное распределение, имеет скошенность вправо\n",
    "---\n",
    "Тариф \"Ультра\":\n",
    "- пользователи отправляют в среднем 48.8 сообщения в месяц\n",
    "- стандартное отклонение по выборке 46.6\n",
    "- дисперсия по выборке 2171.7\n",
    "- без учета нулевых значений гистограмма похожа на нормальное распределение, имеет скошенность вправо\n",
    "---\n",
    "Имеются пользователи, которые не отправляют сообщения.\n",
    "\n",
    "В среднем пользователи тарифа \"Ультра\" отправляют больше сообщений в 1.45 раза."
   ]
  },
  {
   "cell_type": "markdown",
   "metadata": {},
   "source": [
    "### Объём интернет-трафика"
   ]
  },
  {
   "cell_type": "code",
   "execution_count": 16,
   "metadata": {},
   "outputs": [
    {
     "name": "stdout",
     "output_type": "stream",
     "text": [
      "Статистика по тарифу \"Смарт\":\n",
      "Среднее: 16169.1\n",
      "Медиана: 16456.4\n",
      "Дисперсия: 34337907.2\n",
      "Стандартное отклонение: 5859.9 \n",
      "\n",
      "Статистика по тарифу \"Ультра\":\n",
      "Среднее: 19156.3\n",
      "Медиана: 18982.2\n",
      "Дисперсия: 99086990.5\n",
      "Стандартное отклонение: 9954.2 \n",
      "\n"
     ]
    },
    {
     "data": {
      "text/plain": [
       "<matplotlib.axes._subplots.AxesSubplot at 0x209cd076cc8>"
      ]
     },
     "metadata": {},
     "output_type": "display_data"
    },
    {
     "data": {
      "text/plain": [
       "<matplotlib.axes._subplots.AxesSubplot at 0x209cd076cc8>"
      ]
     },
     "metadata": {},
     "output_type": "display_data"
    },
    {
     "data": {
      "image/png": "[encoded data removed]",
      "text/plain": [
       "<Figure size 432x288 with 1 Axes>"
      ]
     },
     "metadata": {
      "needs_background": "light"
     },
     "output_type": "display_data"
    }
   ],
   "source": [
    "# Сводная таблица объема трафика\n",
    "smart_inet_pt_bymonth = all_smart.pivot_table(index=[('call_month','')], columns=[('user_id','')], aggfunc={('mb_used','sum'):['sum']})\n",
    "# display(smart_inet_pt_bymonth)\n",
    "\n",
    "ultra_inet_pt_bymonth = all_ultra.pivot_table(index=[('call_month','')], columns=[('user_id','')], aggfunc={('mb_used','sum'):['sum']})\n",
    "# display(ultra_inet_pt_bymonth)\n",
    "    \n",
    "inet_smart = df_to_series(smart_inet_pt_bymonth)\n",
    "print('Статистика по тарифу \"Смарт\":')\n",
    "print_stat(inet_smart)\n",
    "\n",
    "inet_ultra = df_to_series(ultra_inet_pt_bymonth)\n",
    "print('Статистика по тарифу \"Ультра\":')\n",
    "print_stat(inet_ultra)\n",
    "\n",
    "display(inet_smart.hist(bins=50, alpha=0.7, label='Смарт'))\n",
    "display(inet_ultra.hist(bins=50, alpha=0.7, label='Ультра'))\n",
    "plt.title('Распределение объема трафика')\n",
    "plt.xlabel('Объем трафика')\n",
    "plt.ylabel('Частота')\n",
    "plt.legend()\n",
    "plt.show()"
   ]
  },
  {
   "cell_type": "markdown",
   "metadata": {},
   "source": [
    "#### Вывод\n",
    "---\n",
    "Тариф \"Смарт\":\n",
    "- пользователи потребляют в среднем 16169.1 Мб в месяц\n",
    "- стандартное отклонение по выборке 5859.9 \n",
    "- дисперсия по выборке 34337907.2\n",
    "- гистограмма близка к нормальному распределению, имеет небольшую скошенность влево\n",
    "---\n",
    "Тариф \"Ультра\":\n",
    "- пользователи потребляют в среднем 19156.3 Мб в месяц\n",
    "- стандартное отклонение по выборке 10127.9\n",
    "- дисперсия по выборке 102574058.8\n",
    "- гистограмма близка к нормальному распределению, имеет небольшую скошенность вправо\n",
    "---\n",
    "В среднем пользователи тарифа \"Ультра\" потребляют больше интернет-трафика в 1.2 раза.\n",
    "\n",
    "Наличие в исследуемых данных соединений с нулевым объемом интернет-трафика не оказывает влияния на результат."
   ]
  },
  {
   "cell_type": "markdown",
   "metadata": {},
   "source": [
    "### Выручка  тарифов «Ультра» и «Смарт»\n",
    "---\n",
    "Нулевая гипотеза H0: средняя выручка пользователей тарифов «Ультра» и «Смарт» одинакова\n",
    "\n",
    "Альтернативная гипотеза H1: средняя выручка пользователей тарифов «Ультра» и «Смарт» отличается\n",
    "\n",
    "Пороговое значение alpha зададим на уровне 1%, чтобы снизить вероятность случайного отвержения нулевой гипотезы (не более 1%)."
   ]
  },
  {
   "cell_type": "code",
   "execution_count": 17,
   "metadata": {},
   "outputs": [
    {
     "name": "stdout",
     "output_type": "stream",
     "text": [
      "Статистика по тарифу \"Смарт\":\n",
      "Среднее: 1129.1\n",
      "Медиана: 802.0\n",
      "Дисперсия: 536631.4\n",
      "Стандартное отклонение: 732.6 \n",
      "\n",
      "Статистика по тарифу \"Ультра\":\n",
      "Среднее: 2039.7\n",
      "Медиана: 1950.0\n",
      "Дисперсия: 97461.5\n",
      "Стандартное отклонение: 312.2 \n",
      "\n"
     ]
    },
    {
     "data": {
      "text/plain": [
       "<matplotlib.axes._subplots.AxesSubplot at 0x209ccfeebc8>"
      ]
     },
     "metadata": {},
     "output_type": "display_data"
    },
    {
     "data": {
      "text/plain": [
       "<matplotlib.axes._subplots.AxesSubplot at 0x209ccfeebc8>"
      ]
     },
     "metadata": {},
     "output_type": "display_data"
    },
    {
     "name": "stdout",
     "output_type": "stream",
     "text": [
      "p-значение: 0.0\n",
      "Отвергаем нулевую гипотезу\n"
     ]
    },
    {
     "data": {
      "image/png": "[encoded data removed]",
      "text/plain": [
       "<Figure size 432x288 with 1 Axes>"
      ]
     },
     "metadata": {
      "needs_background": "light"
     },
     "output_type": "display_data"
    }
   ],
   "source": [
    "# Сводная таблица месячной выручки\n",
    "smart_rev_pt_bymonth = all_smart.pivot_table(index=[('call_month','')], columns=[('user_id','')], aggfunc={('revenue',''):['sum']})\n",
    "# display(smart_rev_pt_bymonth)\n",
    "\n",
    "ultra_rev_pt_bymonth = all_ultra.pivot_table(index=[('call_month','')], columns=[('user_id','')], aggfunc={('revenue',''):['sum']})\n",
    "# display(ultra_rev_pt_bymonth)\n",
    "\n",
    "rev_smart = df_to_series(smart_rev_pt_bymonth)\n",
    "print('Статистика по тарифу \"Смарт\":')\n",
    "print_stat(rev_smart)\n",
    "    \n",
    "rev_ultra = df_to_series(ultra_rev_pt_bymonth)\n",
    "print('Статистика по тарифу \"Ультра\":')\n",
    "print_stat(rev_ultra)\n",
    "\n",
    "display(rev_smart.hist(bins=100, range=(555, 6000), alpha=0.7, label='Смарт'))\n",
    "display(rev_ultra.hist(bins=100, range=(1955, 10000), alpha=0.7, label='Ультра'))\n",
    "plt.title('Распределение объема трафика')\n",
    "plt.xlabel('Объем трафика')\n",
    "plt.ylabel('Частота')\n",
    "plt.xlim(500, 5000)\n",
    "plt.legend()\n",
    "\n",
    "\n",
    "# Проверим гипотезу о равенстве среднего двух генеральных совокупностей по взятым из них выборкам\n",
    "alpha = .01 # критический уровень статистической значимости\n",
    "results = st.ttest_ind(rev_smart.dropna().values, rev_ultra.dropna().values, equal_var = False)\n",
    "\n",
    "print('p-значение:', results.pvalue)\n",
    "\n",
    "if (results.pvalue < alpha):\n",
    "    print(\"Отвергаем нулевую гипотезу\")\n",
    "else:\n",
    "    print(\"Не получилось отвергнуть нулевую гипотезу\")"
   ]
  },
  {
   "cell_type": "markdown",
   "metadata": {},
   "source": [
    "#### Вывод\n",
    "Нулевая гипотеза отвергнута. Средняя выручка тарифов «Ультра» и «Смарт» статистически значимо различается. p-значение очень мало, вероятность ошибочного отклонения нулевой гипотезы крайне мала.\n",
    "В среднем выручка по тарифу \"Ультра\" в 1,8 раза больше."
   ]
  },
  {
   "cell_type": "code",
   "execution_count": 18,
   "metadata": {},
   "outputs": [],
   "source": [
    "# Разделение на Москву и регионы\n",
    "all_Moscow = cmi_gr_tar[cmi_gr_tar[('is_moscow', '')]]\n",
    "# display('Moscow:', all_Moscow)\n",
    "all_regions = cmi_gr_tar[~cmi_gr_tar[('is_moscow', '')]]\n",
    "# display('regoins:', all_regions)"
   ]
  },
  {
   "cell_type": "markdown",
   "metadata": {},
   "source": [
    "### Выручка  в Москве и регионах\n",
    "---\n",
    "Нулевая гипотеза H0: средняя выручка пользователей в Москве и регионах одинакова\n",
    "\n",
    "Альтернативная гипотеза H1: средняя выручка пользователей в Москве и регионах отличается\n",
    "\n",
    "Пороговое значение alpha зададим стандартным 5%."
   ]
  },
  {
   "cell_type": "code",
   "execution_count": 19,
   "metadata": {},
   "outputs": [
    {
     "name": "stdout",
     "output_type": "stream",
     "text": [
      "Статистика по регионам:\n",
      "Среднее: 1394.1\n",
      "Медиана: 1350.0\n",
      "Дисперсия: 592789.1\n",
      "Стандартное отклонение: 769.9 \n",
      "\n",
      "Статистика по Москве:\n",
      "Среднее: 1431.6\n",
      "Медиана: 1550.0\n",
      "Дисперсия: 521297.1\n",
      "Стандартное отклонение: 722.0 \n",
      "\n"
     ]
    },
    {
     "name": "stderr",
     "output_type": "stream",
     "text": [
      "C:\\Users\\iserg\\anaconda3\\envs\\First\\lib\\site-packages\\numpy\\lib\\histograms.py:839: RuntimeWarning: invalid value encountered in greater_equal\n",
      "  keep = (tmp_a >= first_edge)\n",
      "C:\\Users\\iserg\\anaconda3\\envs\\First\\lib\\site-packages\\numpy\\lib\\histograms.py:840: RuntimeWarning: invalid value encountered in less_equal\n",
      "  keep &= (tmp_a <= last_edge)\n"
     ]
    },
    {
     "name": "stdout",
     "output_type": "stream",
     "text": [
      "p-значение: 0.2551447200221328\n",
      "Не получилось отвергнуть нулевую гипотезу\n"
     ]
    },
    {
     "data": {
      "image/png": "[encoded data removed]",
      "text/plain": [
       "<Figure size 1080x360 with 4 Axes>"
      ]
     },
     "metadata": {
      "needs_background": "light"
     },
     "output_type": "display_data"
    }
   ],
   "source": [
    "# Сводная таблица месячной выручки\n",
    "regions_pt_bymonth = all_regions.pivot_table(index=[('call_month','')], columns=[('user_id','')], aggfunc={('revenue',''):['sum']})\n",
    "# display(regions_pt_bymonth)\n",
    "\n",
    "moscow_pt_bymonth = all_Moscow.pivot_table(index=[('call_month','')], columns=[('user_id','')], aggfunc={('revenue',''):['sum']})\n",
    "# display(moscow_pt_bymonth)\n",
    "    \n",
    "rev_regions = df_to_series(regions_pt_bymonth)\n",
    "print('Статистика по регионам:')\n",
    "print_stat(rev_regions)\n",
    "    \n",
    "rev_moscow = df_to_series(moscow_pt_bymonth)\n",
    "print('Статистика по Москве:')\n",
    "print_stat(rev_moscow)\n",
    "\n",
    "fig = plt.figure(figsize=(15, 5))\n",
    "\n",
    "ax1 = plt.subplot(1, 2, 1)\n",
    "ax1.hist(rev_regions, bins=100, alpha=0.5, color='g')\n",
    "ax1.yaxis.set_ticks_position(\"right\")\n",
    "ax1.set_ylabel('Регионы', color='tab:green', fontsize=13)\n",
    "plt.xlim(500, 4000)\n",
    "plt.ylim(0, 700)\n",
    "\n",
    "ax2 = ax1.twinx()\n",
    "ax2.hist(rev_moscow, bins=100, alpha=0.5, color='b')\n",
    "ax2.yaxis.set_ticks_position(\"left\")\n",
    "ax2.set_ylabel('Москва', color='tab:blue', fontsize=13)\n",
    "plt.xlim(500, 4000)\n",
    "plt.ylim(0, 700)\n",
    "\n",
    "ax1 = plt.subplot(1, 2, 2)\n",
    "ax1.hist(rev_regions, bins=100, alpha=0.5, color='g')\n",
    "ax1.yaxis.set_ticks_position(\"right\")\n",
    "ax1.set_ylabel('Регионы', color='tab:green', fontsize=13)\n",
    "plt.xlim(500, 4000)\n",
    "plt.ylim(0, 100)\n",
    "\n",
    "ax2 = ax1.twinx()\n",
    "ax2.hist(rev_moscow, bins=100, alpha=0.5, color='b')\n",
    "ax2.yaxis.set_ticks_position(\"left\")\n",
    "ax2.set_ylabel('Москва', color='tab:blue', fontsize=13)\n",
    "plt.xlim(500, 4000)\n",
    "plt.ylim(0, 100)\n",
    "\n",
    "# Проверим гипотезу о равенстве среднего двух генеральных совокупностей по взятым из них выборкам\n",
    "alpha = .05 # критический уровень статистической значимости\n",
    "results = st.ttest_ind(rev_moscow.dropna().values, rev_regions.dropna().values, equal_var = False)\n",
    "\n",
    "print('p-значение:', results.pvalue)\n",
    "\n",
    "if (results.pvalue < alpha):\n",
    "    print(\"Отвергаем нулевую гипотезу\")\n",
    "else:\n",
    "    print(\"Не получилось отвергнуть нулевую гипотезу\")"
   ]
  },
  {
   "cell_type": "markdown",
   "metadata": {},
   "source": [
    "#### Вывод\n",
    "Нулевая гипотеза подтверждена. Средняя выручка в Москве и регионах одинакова, статистически значимого различия нет.\n",
    "Средняя выручка в Москве 1431.6 руб., в регионах - 1394.1 руб."
   ]
  },
  {
   "cell_type": "markdown",
   "metadata": {},
   "source": [
    "## Общие выводы\n",
    "---\n",
    "### Проанализировано время разговора клиентов тарифов \"Смарт\" и \"Ультра\", количество сообщений и объём интернет-трафика в месяц.\n",
    "\n",
    "---\n",
    "#### Длительность звонков\n",
    "- Пользователи тарифа \"Смарт\" разговаривают в среднем 390.6 минут в месяц\n",
    "- Пользователи тарифа \"Ультра\" разговаривают в среднем 509.8 минут в месяц, что в 1.3 раза больше тарифа \"Смарт\".\n",
    "\n",
    "---\n",
    "#### Количество сообщений\n",
    "- Пользователи тарифа \"Смарт\" отправляют в среднем 33.4 сообщения в месяц\n",
    "- Пользователи тарифа \"Ультра\" отправляют в среднем 48.8 сообщения в месяц, что в 1.45 раза больше тарифа \"Смарт\".\n",
    "\n",
    "---\n",
    "#### Объём интернет-трафика\n",
    "- Пользователи тарифа \"Смарт\" потребляют в среднем 16169.1 Мб в месяц\n",
    "- Пользователи тарифа \"Ультра\" потребляют в среднем 19156.3 Мб в месяц, что в в 1.2 раза больше тарифа \"Смарт\".\n",
    "\n",
    "### Проверены 2 гипотезы\n",
    "1. Средняя выручка пользователей тарифов «Ультра» и «Смарт» различается.\n",
    "2. Средняя выручка пользователей из Москвы отличается от выручки пользователей из других регионов.\n",
    "\n",
    "#### Результат проверки гипотез\n",
    "1. Гипотеза подтверждена, выручка пользователей тарифов «Ультра» 2039.7 руб./мес и «Смарт» 1129.1 руб./мес статистически значимо различается. Тариф \"Ультра\" дает выручку примерно в 1.8 раза больше, чем тариф \"Смарт\".\n",
    "2. Гипотеза не подтверждена. Выручка в Москве и регионах практически одинакова, статистически значимого различия нет."
   ]
  }
 ],
 "metadata": {
  "kernelspec": {
   "display_name": "Python 3",
   "language": "python",
   "name": "python3"
  },
  "language_info": {
   "codemirror_mode": {
    "name": "ipython",
    "version": 3
   },
   "file_extension": ".py",
   "mimetype": "text/x-python",
   "name": "python",
   "nbconvert_exporter": "python",
   "pygments_lexer": "ipython3",
   "version": "3.7.7"
  }
 },
 "nbformat": 4,
 "nbformat_minor": 2
}
