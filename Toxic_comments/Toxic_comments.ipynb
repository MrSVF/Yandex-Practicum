{
 "cells": [
  {
   "cell_type": "markdown",
   "metadata": {},
   "source": [
    "<div class=\"alert alert-success\">\n",
    "<h3> Will be transated...</h3>\n",
    "\n",
    "</div>"
   ]
  },
  {
   "cell_type": "markdown",
   "metadata": {
    "id": "v4gxEjW8jvwj"
   },
   "source": [
    "## Создание инструмента определения токсичных комментариев пользователей нового сервиса интернет-магазина «Викишоп».\n",
    "---\n",
    "В исследовании рассмотрены модели классификации текстов, определяющие токсичность текста комментария.\n",
    "\n",
    "---\n",
    "#### Описание данных\n",
    "Признак:\n",
    "\n",
    "- text — текст комментария.\n",
    "\n",
    "Целевой признак:\n",
    "- toxic - токсичность комментария.\n",
    "\n",
    "---\n",
    "<a id='the_contents'></a>\n",
    "#### Исследование состоит из 3 частей.\n",
    "\n",
    "##### Часть 1. Подготовка.\n",
    "* [1.1 Импорт библиотек.](#the_part_1.1)\n",
    "* [1.2 Загрузка файла.](#the_part_1.2)\n",
    "* [1.3 Изучение общей информации.](#the_part_1.3)\n",
    "* [1.4 Обработка пропущенных значений и дубликатов.](#the_part_1.4)\n",
    "\n",
    "##### Часть 2. Обучение моделей.\n",
    "* [2.1 Лемматизация и подготовка данных для обучения.](#the_part_2.1)\n",
    "* [2.2 Линейный метод опорных векторов.](#the_part_2.2)\n",
    "* [2.3 Логистическая регрессия.](#the_part_2.3)\n",
    "* [2.4 Линейная регрессия.](#the_part_2.4)\n",
    "* [2.5 Модель BERT.](#the_part_2.5)\n",
    "\n",
    "##### Часть 3. Выводы.\n",
    "* [Выводы по исследованию.](#the_part_3)\n",
    "---"
   ]
  },
  {
   "cell_type": "markdown",
   "metadata": {
    "id": "ss8b5CVAjvwj"
   },
   "source": [
    "# 1. Подготовка"
   ]
  },
  {
   "cell_type": "markdown",
   "metadata": {
    "id": "CZBPOwr_jvwj"
   },
   "source": [
    "<a id='the_part_1.1'></a>\n",
    "### 1.1 Импорт библиотек."
   ]
  },
  {
   "cell_type": "code",
   "execution_count": 1,
   "metadata": {
    "colab": {
     "base_uri": "https://localhost:8080/"
    },
    "id": "JSWZ53Bqjvwj",
    "outputId": "8773072a-ed37-48b9-caa9-0d346543ac65"
   },
   "outputs": [
    {
     "name": "stderr",
     "output_type": "stream",
     "text": [
      "C:\\Users\\iserg\\anaconda3\\envs\\First\\lib\\site-packages\\numpy\\_distributor_init.py:32: UserWarning: loaded more than 1 DLL from .libs:\n",
      "C:\\Users\\iserg\\anaconda3\\envs\\First\\lib\\site-packages\\numpy\\.libs\\libopenblas.NOIJJG62EMASZI6NYURL6JBKM4EVBGM7.gfortran-win_amd64.dll\n",
      "C:\\Users\\iserg\\anaconda3\\envs\\First\\lib\\site-packages\\numpy\\.libs\\libopenblas.PYQHXLVVQ7VESDPUVUADXEVJOBGHJPAY.gfortran-win_amd64.dll\n",
      "  stacklevel=1)\n",
      "[nltk_data] Downloading package wordnet to\n",
      "[nltk_data]     C:\\Users\\iserg\\AppData\\Roaming\\nltk_data...\n",
      "[nltk_data]   Package wordnet is already up-to-date!\n",
      "[nltk_data] Downloading package punkt to\n",
      "[nltk_data]     C:\\Users\\iserg\\AppData\\Roaming\\nltk_data...\n",
      "[nltk_data]   Package punkt is already up-to-date!\n",
      "[nltk_data] Downloading package stopwords to\n",
      "[nltk_data]     C:\\Users\\iserg\\AppData\\Roaming\\nltk_data...\n",
      "[nltk_data]   Package stopwords is already up-to-date!\n"
     ]
    }
   ],
   "source": [
    "# Импортируем необходимые библиотеки\n",
    "import pandas as pd\n",
    "import numpy as np\n",
    "\n",
    "import matplotlib\n",
    "import matplotlib.pyplot as plt\n",
    "\n",
    "from sklearn.model_selection import train_test_split, GridSearchCV, cross_validate, cross_val_score\n",
    "from sklearn.preprocessing import StandardScaler, OrdinalEncoder \n",
    "from sklearn.metrics import mean_squared_error, make_scorer, accuracy_score, f1_score\n",
    "from sklearn.linear_model import LinearRegression, LogisticRegression\n",
    "from sklearn.svm import SVC, LinearSVC\n",
    "\n",
    "# !pip install transformers\n",
    "import torch\n",
    "import transformers\n",
    "from tqdm import notebook\n",
    "\n",
    "import nltk\n",
    "nltk.download('wordnet')\n",
    "nltk.download('punkt')\n",
    "nltk.download('stopwords')\n",
    "from nltk.corpus import stopwords as nltk_stopwords\n",
    "from nltk.stem import WordNetLemmatizer\n",
    "from nltk.tokenize import WhitespaceTokenizer, word_tokenize\n",
    "from sklearn.feature_extraction.text import TfidfVectorizer "
   ]
  },
  {
   "cell_type": "markdown",
   "metadata": {
    "id": "j-CtNIDVjvwk"
   },
   "source": [
    "<a id='the_part_1.2'></a>\n",
    "### 1.2 Загрузка файла."
   ]
  },
  {
   "cell_type": "code",
   "execution_count": 2,
   "metadata": {
    "id": "u0ji3Ld9jvwk"
   },
   "outputs": [],
   "source": [
    "# Загружаем файл данных\n",
    "try:\n",
    "    df_toxcom = pd.read_csv(r'D:\\Docs\\Documents\\ЯПрактикум\\Проект10\\toxic_comments.csv')\n",
    "except:\n",
    "    df_toxcom = pd.read_csv('https:С:/datasets/toxic_comments.csv')"
   ]
  },
  {
   "cell_type": "markdown",
   "metadata": {
    "id": "fdv_MbjKjvwk"
   },
   "source": [
    "<a id='the_part_1.3'></a>\n",
    "### 1.3 Изучение общей информации."
   ]
  },
  {
   "cell_type": "code",
   "execution_count": 3,
   "metadata": {
    "colab": {
     "base_uri": "https://localhost:8080/",
     "height": 185
    },
    "id": "eSXSZYOxjvwk",
    "outputId": "5af77e25-b74c-465b-c063-af3a58ac14f0"
   },
   "outputs": [
    {
     "name": "stdout",
     "output_type": "stream",
     "text": [
      "<class 'pandas.core.frame.DataFrame'>\n",
      "RangeIndex: 159571 entries, 0 to 159570\n",
      "Data columns (total 2 columns):\n",
      " #   Column  Non-Null Count   Dtype \n",
      "---  ------  --------------   ----- \n",
      " 0   text    159571 non-null  object\n",
      " 1   toxic   159571 non-null  int64 \n",
      "dtypes: int64(1), object(1)\n",
      "memory usage: 2.4+ MB\n"
     ]
    },
    {
     "data": {
      "text/plain": [
       "None"
      ]
     },
     "metadata": {},
     "output_type": "display_data"
    }
   ],
   "source": [
    "# Смотрим общую информацию\n",
    "display(df_toxcom.info())"
   ]
  },
  {
   "cell_type": "code",
   "execution_count": 4,
   "metadata": {
    "colab": {
     "base_uri": "https://localhost:8080/",
     "height": 136
    },
    "id": "PXCZLgWvjvwn",
    "outputId": "e2bcbfe1-a479-4f75-ef8b-90e304b151b5"
   },
   "outputs": [
    {
     "data": {
      "text/html": [
       "<div>\n",
       "<style scoped>\n",
       "    .dataframe tbody tr th:only-of-type {\n",
       "        vertical-align: middle;\n",
       "    }\n",
       "\n",
       "    .dataframe tbody tr th {\n",
       "        vertical-align: top;\n",
       "    }\n",
       "\n",
       "    .dataframe thead th {\n",
       "        text-align: right;\n",
       "    }\n",
       "</style>\n",
       "<table border=\"1\" class=\"dataframe\">\n",
       "  <thead>\n",
       "    <tr style=\"text-align: right;\">\n",
       "      <th></th>\n",
       "      <th>text</th>\n",
       "      <th>toxic</th>\n",
       "    </tr>\n",
       "  </thead>\n",
       "  <tbody>\n",
       "    <tr>\n",
       "      <th>0</th>\n",
       "      <td>Explanation\\nWhy the edits made under my usern...</td>\n",
       "      <td>0</td>\n",
       "    </tr>\n",
       "    <tr>\n",
       "      <th>1</th>\n",
       "      <td>D'aww! He matches this background colour I'm s...</td>\n",
       "      <td>0</td>\n",
       "    </tr>\n",
       "    <tr>\n",
       "      <th>2</th>\n",
       "      <td>Hey man, I'm really not trying to edit war. It...</td>\n",
       "      <td>0</td>\n",
       "    </tr>\n",
       "  </tbody>\n",
       "</table>\n",
       "</div>"
      ],
      "text/plain": [
       "                                                text  toxic\n",
       "0  Explanation\\nWhy the edits made under my usern...      0\n",
       "1  D'aww! He matches this background colour I'm s...      0\n",
       "2  Hey man, I'm really not trying to edit war. It...      0"
      ]
     },
     "metadata": {},
     "output_type": "display_data"
    }
   ],
   "source": [
    "# Смотрим на датафрейм\n",
    "display(df_toxcom.head(3))"
   ]
  },
  {
   "cell_type": "code",
   "execution_count": 5,
   "metadata": {
    "colab": {
     "base_uri": "https://localhost:8080/",
     "height": 313
    },
    "id": "zxKjxS50jvwn",
    "outputId": "fced6a10-3f24-4176-eb2c-f2a1d8640c42"
   },
   "outputs": [
    {
     "data": {
      "text/plain": [
       "0    0.898321\n",
       "1    0.101679\n",
       "Name: toxic, dtype: float64"
      ]
     },
     "metadata": {},
     "output_type": "display_data"
    },
    {
     "data": {
      "image/png": "[encoded data removed]",
      "text/plain": [
       "<Figure size 432x288 with 1 Axes>"
      ]
     },
     "metadata": {
      "needs_background": "light"
     },
     "output_type": "display_data"
    }
   ],
   "source": [
    "# Строим диаграмму распределения классов в целевом признаке\n",
    "class_frequency = df_toxcom['toxic'].value_counts(normalize=True)\n",
    "display(class_frequency)\n",
    "class_frequency.plot(kind='bar', color='#009966')\n",
    "plt.show()"
   ]
  },
  {
   "cell_type": "markdown",
   "metadata": {
    "id": "OtfZqvS2jvwn"
   },
   "source": [
    "<a id='the_part_1.4'></a>\n",
    "### 1.4 Обработка пропущенных значений и дубликатов."
   ]
  },
  {
   "cell_type": "code",
   "execution_count": 6,
   "metadata": {
    "colab": {
     "base_uri": "https://localhost:8080/",
     "height": 123
    },
    "id": "ljUn9BIQjvwn",
    "outputId": "f06c0488-0997-4c45-c4d1-dbf514e3060e"
   },
   "outputs": [
    {
     "data": {
      "text/html": [
       "<div>\n",
       "<style scoped>\n",
       "    .dataframe tbody tr th:only-of-type {\n",
       "        vertical-align: middle;\n",
       "    }\n",
       "\n",
       "    .dataframe tbody tr th {\n",
       "        vertical-align: top;\n",
       "    }\n",
       "\n",
       "    .dataframe thead th {\n",
       "        text-align: right;\n",
       "    }\n",
       "</style>\n",
       "<table border=\"1\" class=\"dataframe\">\n",
       "  <thead>\n",
       "    <tr style=\"text-align: right;\">\n",
       "      <th></th>\n",
       "      <th>Total missing data</th>\n",
       "      <th>Percent missing data</th>\n",
       "    </tr>\n",
       "  </thead>\n",
       "  <tbody>\n",
       "    <tr>\n",
       "      <th>toxic</th>\n",
       "      <td>0</td>\n",
       "      <td>0.0</td>\n",
       "    </tr>\n",
       "    <tr>\n",
       "      <th>text</th>\n",
       "      <td>0</td>\n",
       "      <td>0.0</td>\n",
       "    </tr>\n",
       "  </tbody>\n",
       "</table>\n",
       "</div>"
      ],
      "text/plain": [
       "       Total missing data  Percent missing data\n",
       "toxic                   0                   0.0\n",
       "text                    0                   0.0"
      ]
     },
     "metadata": {},
     "output_type": "display_data"
    },
    {
     "name": "stdout",
     "output_type": "stream",
     "text": [
      "Дубликаты: 0\n"
     ]
    }
   ],
   "source": [
    "# Определим функцию анализа пропущенных данных\n",
    "def missing_data(data):\n",
    "    total = data.isnull().sum().sort_values(ascending = False)\n",
    "    percent = (data.isnull().sum()/data.isnull().count()*100).sort_values(ascending = False)\n",
    "    return pd.concat([total, percent], axis=1, keys=['Total missing data', 'Percent missing data'])\n",
    "\n",
    "# Выполним поиск пропущенных данных и дубликатов\n",
    "display(missing_data(df_toxcom)) # поиск пропущенных данных\n",
    "print('Дубликаты:', df_toxcom.duplicated().sum()) # поиск дубликатов"
   ]
  },
  {
   "cell_type": "markdown",
   "metadata": {},
   "source": [
    "#### Выводы:\n",
    "\n",
    "- Пропусков и дубликатов нет\n",
    "- Наблюдается значительный дисбаланс классов в целевом признаке"
   ]
  },
  {
   "cell_type": "markdown",
   "metadata": {},
   "source": [
    "[<span style=\"color:green\"> К оглавлению</span>](#the_contents)"
   ]
  },
  {
   "cell_type": "markdown",
   "metadata": {
    "id": "8u7eMsq4jvwn"
   },
   "source": [
    "# 2. Обучение моделей"
   ]
  },
  {
   "cell_type": "markdown",
   "metadata": {
    "id": "eOU_CcwCNKvK"
   },
   "source": [
    "<a id='the_part_2.1'></a>\n",
    "### 2.1 Лемматизация и подготовка данных для обучения."
   ]
  },
  {
   "cell_type": "code",
   "execution_count": 7,
   "metadata": {
    "colab": {
     "base_uri": "https://localhost:8080/"
    },
    "id": "Fe38xr_e5oGB",
    "outputId": "91dc67b1-8d75-4acf-a4ee-59f67c2d82a3"
   },
   "outputs": [
    {
     "name": "stdout",
     "output_type": "stream",
     "text": [
      "Wall time: 5min 13s\n"
     ]
    }
   ],
   "source": [
    "%%time\n",
    "\n",
    "# Создаем объект лемматизатора\n",
    "lemmatizer = WordNetLemmatizer()\n",
    "\n",
    "# Функция лемматизации\n",
    "def lemmatize_text(text):\n",
    "    tokens = word_tokenize(text) # Токенизация\n",
    "    words_pnkt = (word for word in tokens if word.isalpha()) # Исключение знаков препинания\n",
    "    words_lwr = (word.lower() for word in words_pnkt) # Перевод в нижний индекс\n",
    "    stop_words = set(nltk_stopwords.words('english')) # Список английских стоп-слов\n",
    "    words = (w for w in words_lwr if not w in stop_words) # Исключение стоп-слов\n",
    "    return \" \".join(lemmatizer.lemmatize(w) for w in words) # Лемматизация\n",
    "\n",
    "# Добавление столбца лемматизированного текста\n",
    "df_toxcom['text_lemmatized'] = df_toxcom['text'].apply(lemmatize_text)"
   ]
  },
  {
   "cell_type": "code",
   "execution_count": 8,
   "metadata": {
    "id": "ve6ARZefjvwn"
   },
   "outputs": [],
   "source": [
    "# Формируем признаки, делим данные на обучающую и тестовую (20%) выборки \n",
    "features = df_toxcom['text_lemmatized']\n",
    "target = df_toxcom['toxic']\n",
    "features_train, features_test, target_train, target_test = train_test_split(\n",
    "    features, target, test_size=0.2, random_state=123, stratify=target)"
   ]
  },
  {
   "cell_type": "markdown",
   "metadata": {},
   "source": [
    "#### Вычисление TF-IDF для корпуса текстов"
   ]
  },
  {
   "cell_type": "code",
   "execution_count": 9,
   "metadata": {
    "colab": {
     "base_uri": "https://localhost:8080/"
    },
    "id": "lB9tVA6ijvwn",
    "outputId": "9c7964ea-1261-4916-bdc1-39875413c033"
   },
   "outputs": [
    {
     "name": "stdout",
     "output_type": "stream",
     "text": [
      "Размер матрицы: (127656, 128613)\n"
     ]
    }
   ],
   "source": [
    "# Выполняем векторизацию обучающей выборки\n",
    "corpus = features_train.values.astype('U')\n",
    "count_tf_idf = TfidfVectorizer()\n",
    "count_tf_idf.fit(corpus)\n",
    "features_train = count_tf_idf.transform(corpus)\n",
    "\n",
    "# Смотрим на размер матрицы\n",
    "print(\"Размер матрицы:\", features_train.shape)"
   ]
  },
  {
   "cell_type": "code",
   "execution_count": 10,
   "metadata": {
    "colab": {
     "base_uri": "https://localhost:8080/"
    },
    "id": "JsE1dq0Ljvwo",
    "outputId": "d2a9a905-8399-4eeb-efcb-7fb1544272bf"
   },
   "outputs": [
    {
     "name": "stdout",
     "output_type": "stream",
     "text": [
      "Размер матрицы: (31915, 128613)\n"
     ]
    }
   ],
   "source": [
    "# Выполняем векторизацию тестовой выборки\n",
    "corpus = features_test.values.astype('U')\n",
    "features_test = count_tf_idf.transform(corpus)\n",
    "\n",
    "print(\"Размер матрицы:\", features_test.shape)"
   ]
  },
  {
   "cell_type": "markdown",
   "metadata": {
    "id": "lgYoW7FjNKvL"
   },
   "source": [
    "<a id='the_part_2.2'></a>\n",
    "### 2.2 Линейный метод опорных векторов."
   ]
  },
  {
   "cell_type": "code",
   "execution_count": 11,
   "metadata": {
    "colab": {
     "base_uri": "https://localhost:8080/"
    },
    "id": "6TqvT3OxDhzQ",
    "outputId": "53e49834-dd56-4295-ae0e-67f4e5b87700"
   },
   "outputs": [
    {
     "name": "stdout",
     "output_type": "stream",
     "text": [
      "Wall time: 2.09 s\n"
     ]
    },
    {
     "data": {
      "text/plain": [
       "LinearSVC()"
      ]
     },
     "execution_count": 11,
     "metadata": {},
     "output_type": "execute_result"
    }
   ],
   "source": [
    "%%time\n",
    "# Обучаем модель\n",
    "model_lsvc = LinearSVC()\n",
    "model_lsvc.fit(features_train, target_train)"
   ]
  },
  {
   "cell_type": "code",
   "execution_count": 12,
   "metadata": {
    "colab": {
     "base_uri": "https://localhost:8080/"
    },
    "id": "abNNEqTGDjx7",
    "outputId": "88b4ff27-515a-4ef7-d324-b10e8fca648e"
   },
   "outputs": [
    {
     "name": "stdout",
     "output_type": "stream",
     "text": [
      "F1 обучающей выборки: 0.923\n",
      "F1 тестовой выборки: 0.769\n"
     ]
    }
   ],
   "source": [
    "# Предсказываем\n",
    "predict_lsvc_train = model_lsvc.predict(features_train)\n",
    "predict_lsvc = model_lsvc.predict(features_test)\n",
    "\n",
    "# Смотрим метрику на обучающей и тестовой выборках\n",
    "print('F1 обучающей выборки:', f1_score(target_train, predict_lsvc_train).round(3))\n",
    "print('F1 тестовой выборки:', f1_score(target_test, predict_lsvc).round(3))"
   ]
  },
  {
   "cell_type": "code",
   "execution_count": 13,
   "metadata": {},
   "outputs": [],
   "source": [
    "# Функция отображения распределение классов\n",
    "def class_freq(data):\n",
    "    class_frequency = pd.Series(data).value_counts(normalize=True)\n",
    "    display(class_frequency)\n",
    "    class_frequency.plot(kind='bar', color='#009966')\n",
    "    plt.show()"
   ]
  },
  {
   "cell_type": "code",
   "execution_count": 14,
   "metadata": {
    "colab": {
     "base_uri": "https://localhost:8080/",
     "height": 313
    },
    "id": "1FFW7lXoghJD",
    "outputId": "e998ba29-1d38-459a-f798-6b949017b18e"
   },
   "outputs": [
    {
     "data": {
      "text/plain": [
       "0    0.920257\n",
       "1    0.079743\n",
       "dtype: float64"
      ]
     },
     "metadata": {},
     "output_type": "display_data"
    },
    {
     "data": {
      "image/png": "[encoded data removed]",
      "text/plain": [
       "<Figure size 432x288 with 1 Axes>"
      ]
     },
     "metadata": {
      "needs_background": "light"
     },
     "output_type": "display_data"
    }
   ],
   "source": [
    "# Смотрим на распределение классов в предсказаниях\n",
    "class_freq(predict_lsvc)"
   ]
  },
  {
   "cell_type": "markdown",
   "metadata": {
    "id": "kxL12nQoNKvL"
   },
   "source": [
    "<a id='the_part_2.3'></a>\n",
    "### 2.3 Логистическая регрессия."
   ]
  },
  {
   "cell_type": "code",
   "execution_count": 15,
   "metadata": {
    "colab": {
     "base_uri": "https://localhost:8080/"
    },
    "id": "D6UyRbIcjvwo",
    "outputId": "6f036fb7-a07b-42de-d27d-95c4c134beb8"
   },
   "outputs": [
    {
     "name": "stdout",
     "output_type": "stream",
     "text": [
      "Wall time: 9 s\n"
     ]
    },
    {
     "data": {
      "text/plain": [
       "LogisticRegression(class_weight='balanced', random_state=123, solver='saga',\n",
       "                   tol=0.05)"
      ]
     },
     "execution_count": 15,
     "metadata": {},
     "output_type": "execute_result"
    }
   ],
   "source": [
    "%%time\n",
    "# Обучаем модель\n",
    "model_lr = LogisticRegression(random_state=123, solver='saga', class_weight='balanced', penalty='l2', tol=0.05) \n",
    "model_lr.fit(features_train, target_train)"
   ]
  },
  {
   "cell_type": "code",
   "execution_count": 16,
   "metadata": {
    "colab": {
     "base_uri": "https://localhost:8080/"
    },
    "id": "ahuCCiGqjvwo",
    "outputId": "92a74322-7d70-4775-f5a1-b2e53da2b754"
   },
   "outputs": [
    {
     "name": "stdout",
     "output_type": "stream",
     "text": [
      "F1 обучающей выборки: 0.79\n",
      "F1 тестовой выборки: 0.714\n"
     ]
    }
   ],
   "source": [
    "# Предсказываем\n",
    "predict_lr_train = model_lr.predict(features_train)\n",
    "predict_lr = model_lr.predict(features_test)\n",
    "\n",
    "# Смотрим метрику на обучающей и тестовой выборках\n",
    "print('F1 обучающей выборки:', f1_score(target_train, predict_lr_train).round(3))\n",
    "print('F1 тестовой выборки:', f1_score(target_test, predict_lr).round(3))"
   ]
  },
  {
   "cell_type": "code",
   "execution_count": 17,
   "metadata": {
    "colab": {
     "base_uri": "https://localhost:8080/",
     "height": 313
    },
    "id": "nS6vHNjdjvwo",
    "outputId": "f852af16-7534-459f-db9c-3c53583144ad"
   },
   "outputs": [
    {
     "data": {
      "text/plain": [
       "0    0.850822\n",
       "1    0.149178\n",
       "dtype: float64"
      ]
     },
     "metadata": {},
     "output_type": "display_data"
    },
    {
     "data": {
      "image/png": "[encoded data removed]",
      "text/plain": [
       "<Figure size 432x288 with 1 Axes>"
      ]
     },
     "metadata": {
      "needs_background": "light"
     },
     "output_type": "display_data"
    }
   ],
   "source": [
    "# Смотрим на распределение классов в предсказаниях\n",
    "class_freq(predict_lr)"
   ]
  },
  {
   "cell_type": "markdown",
   "metadata": {
    "id": "_3ePwLydNKvL"
   },
   "source": [
    "<a id='the_part_2.4'></a>\n",
    "### 2.4 Линейная регрессия."
   ]
  },
  {
   "cell_type": "code",
   "execution_count": 18,
   "metadata": {
    "colab": {
     "base_uri": "https://localhost:8080/"
    },
    "id": "BDpWEC4jjvwp",
    "outputId": "1e4ffba7-64f7-4cd7-be93-1314add779f9"
   },
   "outputs": [
    {
     "name": "stdout",
     "output_type": "stream",
     "text": [
      "Wall time: 21min 3s\n"
     ]
    },
    {
     "data": {
      "text/plain": [
       "LinearRegression()"
      ]
     },
     "execution_count": 18,
     "metadata": {},
     "output_type": "execute_result"
    }
   ],
   "source": [
    "%%time\n",
    "# Обучаем модель\n",
    "model_lm = LinearRegression()\n",
    "model_lm.fit(features_train, target_train)"
   ]
  },
  {
   "cell_type": "code",
   "execution_count": 19,
   "metadata": {
    "colab": {
     "base_uri": "https://localhost:8080/"
    },
    "id": "Fj7sDSK3jvwp",
    "outputId": "d7b1e669-bf81-4f2e-be0e-d913c70dc5ea"
   },
   "outputs": [
    {
     "name": "stdout",
     "output_type": "stream",
     "text": [
      "F1 обучающей выборки: 0.942\n",
      "F1 тестовой выборки: 0.559\n"
     ]
    }
   ],
   "source": [
    "# Предсказываем\n",
    "predict_lm_train = model_lm.predict(features_train)\n",
    "predict_lm = model_lm.predict(features_test)\n",
    "\n",
    "# Смотрим метрику на обучающей и тестовой выборках\n",
    "print('F1 обучающей выборки:', f1_score(target_train, (predict_lm_train > 0.5).astype(int)).round(3))\n",
    "print('F1 тестовой выборки:', f1_score(target_test, (predict_lm > 0.5).astype(int)).round(3))"
   ]
  },
  {
   "cell_type": "code",
   "execution_count": 20,
   "metadata": {
    "colab": {
     "base_uri": "https://localhost:8080/",
     "height": 313
    },
    "id": "0h2HqX6Bjvwp",
    "outputId": "d4a5a284-cb46-4fd1-ec45-43beb3a472bb"
   },
   "outputs": [
    {
     "data": {
      "text/plain": [
       "0    0.889049\n",
       "1    0.110951\n",
       "dtype: float64"
      ]
     },
     "metadata": {},
     "output_type": "display_data"
    },
    {
     "data": {
      "image/png": "[encoded data removed]",
      "text/plain": [
       "<Figure size 432x288 with 1 Axes>"
      ]
     },
     "metadata": {
      "needs_background": "light"
     },
     "output_type": "display_data"
    }
   ],
   "source": [
    "# Смотрим на распределение классов в предсказаниях\n",
    "class_freq((predict_lm > 0.5).astype(int))"
   ]
  },
  {
   "cell_type": "markdown",
   "metadata": {
    "id": "kB7vuvpyNKvL"
   },
   "source": [
    "<a id='the_part_2.5'></a>\n",
    "### 2.5 Модель BERT."
   ]
  },
  {
   "cell_type": "markdown",
   "metadata": {
    "id": "97q05v_mNKvL"
   },
   "source": [
    "#### Скачаем в локальную папку предварительно загруженные на gdrive файлы обученной модели Conversational BERT, English, cased, 12-layer, 768-hidden, 12-heads, 110M parameters с сайта BERT in DeepPavlov http://docs.deeppavlov.ai/en/master/features/models/bert.html. \n",
    "(Раскомментировать код в ячейке ниже, если загрузка еще на была произведена.)"
   ]
  },
  {
   "cell_type": "code",
   "execution_count": 21,
   "metadata": {
    "colab": {
     "base_uri": "https://localhost:8080/"
    },
    "id": "KfmrOy3UWdJ7",
    "outputId": "00332272-4f80-40da-b406-f304cafe7efb"
   },
   "outputs": [],
   "source": [
    "# Загрузка с гугл диска файлов vocab.txt, bert_config.json, pytorch_model.bin\n",
    "# !gdown https://drive.google.com/uc?id=1IN_KIkWH_xSw9bOjcmSIIGFDQzWrUfg0\n",
    "# !gdown https://drive.google.com/uc?id=11ylcySJCCuBUqhn_uXh-I_7PDB1UXwMF\n",
    "# !gdown https://drive.google.com/uc?id=1z_GvdXvDnYpPpzDpU40OlM775KpiynlV"
   ]
  },
  {
   "cell_type": "markdown",
   "metadata": {
    "id": "VzGTKXlyNKvL"
   },
   "source": [
    "#### Исходный датасет очень большой, считается долго. Сформируем сбалансированный по целевым признакам датасет из 400 объектов с признаком токсичности 0 и 400 объектов с признаком токсичности 1."
   ]
  },
  {
   "cell_type": "code",
   "execution_count": 22,
   "metadata": {
    "id": "qEwO_lkNnPsi"
   },
   "outputs": [],
   "source": [
    "# Выбираем объекты с признаком токсичности 0\n",
    "df_toxcom_0 = df_toxcom[df_toxcom['toxic'] == 0].sample(n=400)\n",
    "\n",
    "# Выбираем объекты с признаком токсичности 1\n",
    "df_toxcom_1 = df_toxcom[df_toxcom['toxic'] == 1].sample(n=400)\n",
    "\n",
    "# Объединяем и перемешиваем\n",
    "df_toxcom = pd.concat([df_toxcom_0, df_toxcom_1]).sample(frac=1)"
   ]
  },
  {
   "cell_type": "code",
   "execution_count": 23,
   "metadata": {
    "id": "0fn_eoRBnP_0"
   },
   "outputs": [],
   "source": [
    "# Выполняем токенизацию с ограничением длины фразы в 512 слов\n",
    "tokenizer = transformers.BertTokenizer(\n",
    "    vocab_file='vocab.txt')\n",
    "\n",
    "tokenized = df_toxcom['text'].apply(\n",
    "    lambda x: tokenizer.encode(x, add_special_tokens=True, truncation=True, max_length=512))\n",
    "\n",
    "max_len = 0\n",
    "for i in tokenized.values:\n",
    "    if len(i) > max_len:\n",
    "        max_len = len(i)\n",
    "\n",
    "padded = np.array([i + [0]*(max_len - len(i)) for i in tokenized.values])\n",
    "\n",
    "attention_mask = np.where(padded != 0, 1, 0)"
   ]
  },
  {
   "cell_type": "code",
   "execution_count": 24,
   "metadata": {
    "id": "qLfBAFkknPdf"
   },
   "outputs": [],
   "source": [
    "# Создаем модель BERT\n",
    "config = transformers.BertConfig.from_json_file('bert_config.json')\n",
    "model = transformers.BertModel.from_pretrained('pytorch_model.bin', config=config)"
   ]
  },
  {
   "cell_type": "code",
   "execution_count": 25,
   "metadata": {
    "colab": {
     "base_uri": "https://localhost:8080/",
     "height": 66,
     "referenced_widgets": [
      "657c7486834642bc8765ad5630c02865",
      "d75de9dd573945ef8f2950de08e856b0",
      "bb90e71834f44c2db0ab7ae9c479b18e",
      "55ccf7230e2140afb2b955ffa5a5a7a5",
      "25e4754cb16b42a095dab284665331a9",
      "16d3e804e7bc4847903b5aab3df61f7f",
      "2c63d47c05db42178dd214116a67a367",
      "4b7024d560f34fcab9f4dc76e0846bff"
     ]
    },
    "id": "eJyWUbQPisMb",
    "outputId": "80864700-5f39-4b16-8541-708a1e982a5c"
   },
   "outputs": [
    {
     "data": {
      "application/vnd.jupyter.widget-view+json": {
       "model_id": "47266ac67cb143e2b8fe81b1be3bef88",
       "version_major": 2,
       "version_minor": 0
      },
      "text/plain": [
       "HBox(children=(HTML(value=''), FloatProgress(value=0.0, max=40.0), HTML(value='')))"
      ]
     },
     "metadata": {},
     "output_type": "display_data"
    },
    {
     "name": "stdout",
     "output_type": "stream",
     "text": [
      "\n"
     ]
    }
   ],
   "source": [
    "# Создаем эмбеддинги\n",
    "batch_size = 20\n",
    "embeddings = []\n",
    "for i in notebook.tqdm(range(padded.shape[0] // batch_size)):\n",
    "        batch = torch.LongTensor(padded[batch_size*i:batch_size*(i+1)]) \n",
    "        attention_mask_batch = torch.LongTensor(attention_mask[batch_size*i:batch_size*(i+1)])\n",
    "        \n",
    "        with torch.no_grad():\n",
    "            batch_embeddings = model(batch, attention_mask=attention_mask_batch)\n",
    "        \n",
    "        embeddings.append(batch_embeddings[0][:,0,:].numpy())"
   ]
  },
  {
   "cell_type": "code",
   "execution_count": 26,
   "metadata": {
    "id": "QU7Ljs-Kiwcv"
   },
   "outputs": [],
   "source": [
    "# Формируем признаки для обучения\n",
    "features = np.concatenate(embeddings)\n",
    "\n",
    "# Делим на обучающую и тестовую выборки\n",
    "target = df_toxcom['toxic']\n",
    "features_train, features_test, target_train, target_test = train_test_split(\n",
    "    features, target, test_size=0.5, random_state=123, stratify=target)"
   ]
  },
  {
   "cell_type": "markdown",
   "metadata": {
    "id": "6YpMtbTDNKvL"
   },
   "source": [
    "#### Обучим модель логистической регрессии."
   ]
  },
  {
   "cell_type": "code",
   "execution_count": 27,
   "metadata": {
    "colab": {
     "base_uri": "https://localhost:8080/"
    },
    "id": "lbUN-56giwY6",
    "outputId": "d7ef3134-16c1-4474-8877-b4f2b1cc9ab1"
   },
   "outputs": [
    {
     "data": {
      "text/plain": [
       "LogisticRegression(class_weight='balanced', random_state=123, solver='saga',\n",
       "                   tol=0.05)"
      ]
     },
     "execution_count": 27,
     "metadata": {},
     "output_type": "execute_result"
    }
   ],
   "source": [
    "# Обучаем модель логистической регрессии\n",
    "model_lr = LogisticRegression(random_state=123, solver='saga', class_weight='balanced', penalty='l2', tol=0.05) \n",
    "model_lr.fit(features_train, target_train)"
   ]
  },
  {
   "cell_type": "code",
   "execution_count": 28,
   "metadata": {
    "colab": {
     "base_uri": "https://localhost:8080/"
    },
    "id": "qzX7Xe4Ei2G-",
    "outputId": "49ff3ec3-ecc2-4221-d927-35bcdbe18426"
   },
   "outputs": [
    {
     "name": "stdout",
     "output_type": "stream",
     "text": [
      "F1 обучающей выборки: 0.935\n",
      "F1 тестовой выборки: 0.861\n"
     ]
    }
   ],
   "source": [
    "# Печать метрики\n",
    "print('F1 обучающей выборки:', f1_score(target_train, model_lr.predict(features_train)).round(3))\n",
    "print('F1 тестовой выборки:', f1_score(target_test, model_lr.predict(features_test)).round(3))"
   ]
  },
  {
   "cell_type": "markdown",
   "metadata": {},
   "source": [
    "[<span style=\"color:green\"> К оглавлению</span>](#the_contents)"
   ]
  },
  {
   "cell_type": "markdown",
   "metadata": {
    "id": "mDlrFe1Ejvwp"
   },
   "source": [
    "# 3. Выводы"
   ]
  },
  {
   "cell_type": "markdown",
   "metadata": {},
   "source": [
    "<a id='the_part_3'></a>\n",
    "### Выводы по исследованию."
   ]
  },
  {
   "cell_type": "markdown",
   "metadata": {
    "id": "Pq3Su9yJjvwp"
   },
   "source": [
    "1. Целевое значение 0,75 метрики F1 было достигнуто при векторизации текстов методом TF-IDF на модели линейного метода опорных векторов и составило 0,769.\n",
    "2. При векторизации текстов методом TF-IDF модели логистической регрессии и линейной регрессии не достигли целевого значения F1, результат составил 0,714 и 0,559 соответственно.\n",
    "3. В предсказаниях модели, достигшей целевого значения метрики (LinearSVC), количество объектов класса \"0\" больше, чем в тестовой выборке. В моделях, не достигших целевого значения метрики, таких объектов меньше, чем в тестовой выборке.\n",
    "4. Применение модели BERT для кодирования текста поволило достичь на модели логистической регрессии на тестовой выборке F1 = 0,861.\n",
    "5. Время обучения моделей на одном датасете может отличаться на несколько порядков, от единиц секунд до десятков часов."
   ]
  },
  {
   "cell_type": "markdown",
   "metadata": {},
   "source": [
    "[<span style=\"color:green\"> К оглавлению</span>](#the_contents)"
   ]
  },
  {
   "cell_type": "markdown",
   "metadata": {
    "id": "bymGrySgVVS1"
   },
   "source": [
    "Использованные источники:\n",
    "\n",
    "https://towardsdatascience.com/bert-text-classification-using-pytorch-723dfb8b6b5b\n",
    "\n",
    "https://github.com/google-research/bert\n",
    "\n",
    "http://docs.deeppavlov.ai/en/master/features/models/bert.html\n",
    "\n",
    "https://github.com/huggingface/transformers/issues/1791\n",
    "\n",
    "https://machinelearningmastery.com/clean-text-machine-learning-python/\n",
    "\n",
    "https://pypi.org/project/pytorch-pretrained-bert/#notebooks"
   ]
  }
 ],
 "metadata": {
  "colab": {
   "name": "toxic_comments_clb.ipynb",
   "provenance": [],
   "toc_visible": true
  },
  "kernelspec": {
   "display_name": "Python 3",
   "language": "python",
   "name": "python3"
  },
  "language_info": {
   "codemirror_mode": {
    "name": "ipython",
    "version": 3
   },
   "file_extension": ".py",
   "mimetype": "text/x-python",
   "name": "python",
   "nbconvert_exporter": "python",
   "pygments_lexer": "ipython3",
   "version": "3.7.6"
  },
  "widgets": {
   "application/vnd.jupyter.widget-state+json": {
    "16d3e804e7bc4847903b5aab3df61f7f": {
     "model_module": "@jupyter-widgets/base",
     "model_name": "LayoutModel",
     "state": {
      "_model_module": "@jupyter-widgets/base",
      "_model_module_version": "1.2.0",
      "_model_name": "LayoutModel",
      "_view_count": null,
      "_view_module": "@jupyter-widgets/base",
      "_view_module_version": "1.2.0",
      "_view_name": "LayoutView",
      "align_content": null,
      "align_items": null,
      "align_self": null,
      "border": null,
      "bottom": null,
      "display": null,
      "flex": null,
      "flex_flow": null,
      "grid_area": null,
      "grid_auto_columns": null,
      "grid_auto_flow": null,
      "grid_auto_rows": null,
      "grid_column": null,
      "grid_gap": null,
      "grid_row": null,
      "grid_template_areas": null,
      "grid_template_columns": null,
      "grid_template_rows": null,
      "height": null,
      "justify_content": null,
      "justify_items": null,
      "left": null,
      "margin": null,
      "max_height": null,
      "max_width": null,
      "min_height": null,
      "min_width": null,
      "object_fit": null,
      "object_position": null,
      "order": null,
      "overflow": null,
      "overflow_x": null,
      "overflow_y": null,
      "padding": null,
      "right": null,
      "top": null,
      "visibility": null,
      "width": null
     }
    },
    "25e4754cb16b42a095dab284665331a9": {
     "model_module": "@jupyter-widgets/controls",
     "model_name": "ProgressStyleModel",
     "state": {
      "_model_module": "@jupyter-widgets/controls",
      "_model_module_version": "1.5.0",
      "_model_name": "ProgressStyleModel",
      "_view_count": null,
      "_view_module": "@jupyter-widgets/base",
      "_view_module_version": "1.2.0",
      "_view_name": "StyleView",
      "bar_color": null,
      "description_width": "initial"
     }
    },
    "2c63d47c05db42178dd214116a67a367": {
     "model_module": "@jupyter-widgets/controls",
     "model_name": "DescriptionStyleModel",
     "state": {
      "_model_module": "@jupyter-widgets/controls",
      "_model_module_version": "1.5.0",
      "_model_name": "DescriptionStyleModel",
      "_view_count": null,
      "_view_module": "@jupyter-widgets/base",
      "_view_module_version": "1.2.0",
      "_view_name": "StyleView",
      "description_width": ""
     }
    },
    "4b7024d560f34fcab9f4dc76e0846bff": {
     "model_module": "@jupyter-widgets/base",
     "model_name": "LayoutModel",
     "state": {
      "_model_module": "@jupyter-widgets/base",
      "_model_module_version": "1.2.0",
      "_model_name": "LayoutModel",
      "_view_count": null,
      "_view_module": "@jupyter-widgets/base",
      "_view_module_version": "1.2.0",
      "_view_name": "LayoutView",
      "align_content": null,
      "align_items": null,
      "align_self": null,
      "border": null,
      "bottom": null,
      "display": null,
      "flex": null,
      "flex_flow": null,
      "grid_area": null,
      "grid_auto_columns": null,
      "grid_auto_flow": null,
      "grid_auto_rows": null,
      "grid_column": null,
      "grid_gap": null,
      "grid_row": null,
      "grid_template_areas": null,
      "grid_template_columns": null,
      "grid_template_rows": null,
      "height": null,
      "justify_content": null,
      "justify_items": null,
      "left": null,
      "margin": null,
      "max_height": null,
      "max_width": null,
      "min_height": null,
      "min_width": null,
      "object_fit": null,
      "object_position": null,
      "order": null,
      "overflow": null,
      "overflow_x": null,
      "overflow_y": null,
      "padding": null,
      "right": null,
      "top": null,
      "visibility": null,
      "width": null
     }
    },
    "55ccf7230e2140afb2b955ffa5a5a7a5": {
     "model_module": "@jupyter-widgets/controls",
     "model_name": "HTMLModel",
     "state": {
      "_dom_classes": [],
      "_model_module": "@jupyter-widgets/controls",
      "_model_module_version": "1.5.0",
      "_model_name": "HTMLModel",
      "_view_count": null,
      "_view_module": "@jupyter-widgets/controls",
      "_view_module_version": "1.5.0",
      "_view_name": "HTMLView",
      "description": "",
      "description_tooltip": null,
      "layout": "IPY_MODEL_4b7024d560f34fcab9f4dc76e0846bff",
      "placeholder": "​",
      "style": "IPY_MODEL_2c63d47c05db42178dd214116a67a367",
      "value": " 8/8 [23:16&lt;00:00, 174.53s/it]"
     }
    },
    "657c7486834642bc8765ad5630c02865": {
     "model_module": "@jupyter-widgets/controls",
     "model_name": "HBoxModel",
     "state": {
      "_dom_classes": [],
      "_model_module": "@jupyter-widgets/controls",
      "_model_module_version": "1.5.0",
      "_model_name": "HBoxModel",
      "_view_count": null,
      "_view_module": "@jupyter-widgets/controls",
      "_view_module_version": "1.5.0",
      "_view_name": "HBoxView",
      "box_style": "",
      "children": [
       "IPY_MODEL_bb90e71834f44c2db0ab7ae9c479b18e",
       "IPY_MODEL_55ccf7230e2140afb2b955ffa5a5a7a5"
      ],
      "layout": "IPY_MODEL_d75de9dd573945ef8f2950de08e856b0"
     }
    },
    "bb90e71834f44c2db0ab7ae9c479b18e": {
     "model_module": "@jupyter-widgets/controls",
     "model_name": "FloatProgressModel",
     "state": {
      "_dom_classes": [],
      "_model_module": "@jupyter-widgets/controls",
      "_model_module_version": "1.5.0",
      "_model_name": "FloatProgressModel",
      "_view_count": null,
      "_view_module": "@jupyter-widgets/controls",
      "_view_module_version": "1.5.0",
      "_view_name": "ProgressView",
      "bar_style": "success",
      "description": "100%",
      "description_tooltip": null,
      "layout": "IPY_MODEL_16d3e804e7bc4847903b5aab3df61f7f",
      "max": 8,
      "min": 0,
      "orientation": "horizontal",
      "style": "IPY_MODEL_25e4754cb16b42a095dab284665331a9",
      "value": 8
     }
    },
    "d75de9dd573945ef8f2950de08e856b0": {
     "model_module": "@jupyter-widgets/base",
     "model_name": "LayoutModel",
     "state": {
      "_model_module": "@jupyter-widgets/base",
      "_model_module_version": "1.2.0",
      "_model_name": "LayoutModel",
      "_view_count": null,
      "_view_module": "@jupyter-widgets/base",
      "_view_module_version": "1.2.0",
      "_view_name": "LayoutView",
      "align_content": null,
      "align_items": null,
      "align_self": null,
      "border": null,
      "bottom": null,
      "display": null,
      "flex": null,
      "flex_flow": null,
      "grid_area": null,
      "grid_auto_columns": null,
      "grid_auto_flow": null,
      "grid_auto_rows": null,
      "grid_column": null,
      "grid_gap": null,
      "grid_row": null,
      "grid_template_areas": null,
      "grid_template_columns": null,
      "grid_template_rows": null,
      "height": null,
      "justify_content": null,
      "justify_items": null,
      "left": null,
      "margin": null,
      "max_height": null,
      "max_width": null,
      "min_height": null,
      "min_width": null,
      "object_fit": null,
      "object_position": null,
      "order": null,
      "overflow": null,
      "overflow_x": null,
      "overflow_y": null,
      "padding": null,
      "right": null,
      "top": null,
      "visibility": null,
      "width": null
     }
    }
   }
  }
 },
 "nbformat": 4,
 "nbformat_minor": 1
}
