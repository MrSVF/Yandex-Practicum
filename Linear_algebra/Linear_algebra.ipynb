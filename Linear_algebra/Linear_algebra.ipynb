{
 "cells": [
  {
   "cell_type": "markdown",
   "metadata": {},
   "source": [
    "<div class=\"alert alert-success\">\n",
    "<h3> Will be transated...</h3>\n",
    "\n",
    "</div>"
   ]
  },
  {
   "cell_type": "markdown",
   "metadata": {},
   "source": [
    "Нужно защитить данные клиентов страховой компании «Хоть потоп». Разработан метод преобразования данных, чтобы по ним было сложно восстановить персональную информацию. Обоснована корректность его работы.\n",
    "\n",
    "Нужно защитить данные, чтобы при преобразовании качество моделей машинного обучения не ухудшилось."
   ]
  },
  {
   "cell_type": "markdown",
   "metadata": {},
   "source": [
    "## 1. Загрузка данных"
   ]
  },
  {
   "cell_type": "code",
   "execution_count": 1,
   "metadata": {},
   "outputs": [],
   "source": [
    "# Импортируем необходимые библиотеки\n",
    "import pandas as pd\n",
    "import numpy as np\n",
    "from sklearn.metrics import r2_score\n",
    "from sklearn.linear_model import LinearRegression"
   ]
  },
  {
   "cell_type": "code",
   "execution_count": 2,
   "metadata": {},
   "outputs": [],
   "source": [
    "# Загружаем файл данных\n",
    "try:\n",
    "    data = pd.read_csv('https://С:/datasets/insurance.csv')\n",
    "except:\n",
    "    data = pd.read_csv(r'D:\\Docs\\Documents\\ЯПрактикум\\Проект7\\insurance.csv')"
   ]
  },
  {
   "cell_type": "code",
   "execution_count": 3,
   "metadata": {},
   "outputs": [
    {
     "data": {
      "text/html": [
       "<div>\n",
       "<style scoped>\n",
       "    .dataframe tbody tr th:only-of-type {\n",
       "        vertical-align: middle;\n",
       "    }\n",
       "\n",
       "    .dataframe tbody tr th {\n",
       "        vertical-align: top;\n",
       "    }\n",
       "\n",
       "    .dataframe thead th {\n",
       "        text-align: right;\n",
       "    }\n",
       "</style>\n",
       "<table border=\"1\" class=\"dataframe\">\n",
       "  <thead>\n",
       "    <tr style=\"text-align: right;\">\n",
       "      <th></th>\n",
       "      <th>Пол</th>\n",
       "      <th>Возраст</th>\n",
       "      <th>Зарплата</th>\n",
       "      <th>Члены семьи</th>\n",
       "      <th>Страховые выплаты</th>\n",
       "    </tr>\n",
       "  </thead>\n",
       "  <tbody>\n",
       "    <tr>\n",
       "      <td>0</td>\n",
       "      <td>1</td>\n",
       "      <td>41.0</td>\n",
       "      <td>49600.0</td>\n",
       "      <td>1</td>\n",
       "      <td>0</td>\n",
       "    </tr>\n",
       "    <tr>\n",
       "      <td>1</td>\n",
       "      <td>0</td>\n",
       "      <td>46.0</td>\n",
       "      <td>38000.0</td>\n",
       "      <td>1</td>\n",
       "      <td>1</td>\n",
       "    </tr>\n",
       "    <tr>\n",
       "      <td>2</td>\n",
       "      <td>0</td>\n",
       "      <td>29.0</td>\n",
       "      <td>21000.0</td>\n",
       "      <td>0</td>\n",
       "      <td>0</td>\n",
       "    </tr>\n",
       "    <tr>\n",
       "      <td>3</td>\n",
       "      <td>0</td>\n",
       "      <td>21.0</td>\n",
       "      <td>41700.0</td>\n",
       "      <td>2</td>\n",
       "      <td>0</td>\n",
       "    </tr>\n",
       "    <tr>\n",
       "      <td>4</td>\n",
       "      <td>1</td>\n",
       "      <td>28.0</td>\n",
       "      <td>26100.0</td>\n",
       "      <td>0</td>\n",
       "      <td>0</td>\n",
       "    </tr>\n",
       "    <tr>\n",
       "      <td>...</td>\n",
       "      <td>...</td>\n",
       "      <td>...</td>\n",
       "      <td>...</td>\n",
       "      <td>...</td>\n",
       "      <td>...</td>\n",
       "    </tr>\n",
       "    <tr>\n",
       "      <td>4995</td>\n",
       "      <td>0</td>\n",
       "      <td>28.0</td>\n",
       "      <td>35700.0</td>\n",
       "      <td>2</td>\n",
       "      <td>0</td>\n",
       "    </tr>\n",
       "    <tr>\n",
       "      <td>4996</td>\n",
       "      <td>0</td>\n",
       "      <td>34.0</td>\n",
       "      <td>52400.0</td>\n",
       "      <td>1</td>\n",
       "      <td>0</td>\n",
       "    </tr>\n",
       "    <tr>\n",
       "      <td>4997</td>\n",
       "      <td>0</td>\n",
       "      <td>20.0</td>\n",
       "      <td>33900.0</td>\n",
       "      <td>2</td>\n",
       "      <td>0</td>\n",
       "    </tr>\n",
       "    <tr>\n",
       "      <td>4998</td>\n",
       "      <td>1</td>\n",
       "      <td>22.0</td>\n",
       "      <td>32700.0</td>\n",
       "      <td>3</td>\n",
       "      <td>0</td>\n",
       "    </tr>\n",
       "    <tr>\n",
       "      <td>4999</td>\n",
       "      <td>1</td>\n",
       "      <td>28.0</td>\n",
       "      <td>40600.0</td>\n",
       "      <td>1</td>\n",
       "      <td>0</td>\n",
       "    </tr>\n",
       "  </tbody>\n",
       "</table>\n",
       "<p>5000 rows × 5 columns</p>\n",
       "</div>"
      ],
      "text/plain": [
       "      Пол  Возраст  Зарплата  Члены семьи  Страховые выплаты\n",
       "0       1     41.0   49600.0            1                  0\n",
       "1       0     46.0   38000.0            1                  1\n",
       "2       0     29.0   21000.0            0                  0\n",
       "3       0     21.0   41700.0            2                  0\n",
       "4       1     28.0   26100.0            0                  0\n",
       "...   ...      ...       ...          ...                ...\n",
       "4995    0     28.0   35700.0            2                  0\n",
       "4996    0     34.0   52400.0            1                  0\n",
       "4997    0     20.0   33900.0            2                  0\n",
       "4998    1     22.0   32700.0            3                  0\n",
       "4999    1     28.0   40600.0            1                  0\n",
       "\n",
       "[5000 rows x 5 columns]"
      ]
     },
     "metadata": {},
     "output_type": "display_data"
    }
   ],
   "source": [
    "# Посмотрим на исходные данные\n",
    "display(data)"
   ]
  },
  {
   "cell_type": "markdown",
   "metadata": {},
   "source": [
    "## 2. Умножение матриц"
   ]
  },
  {
   "cell_type": "markdown",
   "metadata": {},
   "source": [
    "В этом задании вы можете записывать формулы в *Jupyter Notebook.*\n",
    "\n",
    "Чтобы записать формулу внутри текста, окружите её символами доллара \\\\$; если снаружи —  двойными символами \\\\$\\\\$. Эти формулы записываются на языке вёрстки *LaTeX.* \n",
    "\n",
    "Для примера мы записали формулы линейной регрессии. Можете их скопировать и отредактировать, чтобы решить задачу.\n",
    "\n",
    "Работать в *LaTeX* необязательно."
   ]
  },
  {
   "cell_type": "markdown",
   "metadata": {},
   "source": [
    "Обозначения:\n",
    "\n",
    "- $X$ — матрица признаков (нулевой столбец состоит из единиц)\n",
    "\n",
    "- $y$ — вектор целевого признака\n",
    "\n",
    "- $P$ — матрица, на которую умножаются признаки\n",
    "\n",
    "- $w$ — вектор весов линейной регрессии (нулевой элемент равен сдвигу)"
   ]
  },
  {
   "cell_type": "markdown",
   "metadata": {},
   "source": [
    "Предсказания:\n",
    "\n",
    "$$\n",
    "a = Xw\n",
    "$$\n",
    "\n",
    "Задача обучения:\n",
    "\n",
    "$$\n",
    "w = \\arg\\min_w MSE(Xw, y)\n",
    "$$\n",
    "\n",
    "Формула обучения:\n",
    "\n",
    "$$\n",
    "w = (X^T X)^{-1} X^T y\n",
    "$$"
   ]
  },
  {
   "cell_type": "markdown",
   "metadata": {},
   "source": [
    "**Ответ:** b. Качество модели линейной регрессии не изменится.\n",
    "\n",
    "**Обоснование:** Умножение на обратимую матрицу является линейным преобразованием. Соответственно новые параметры линейной регрессии после преобразований будут линейно связаны со исходными параметрами. Формула обучения новой модели \"учтет\" изменения и новые параметры также будут соответсововать минимуму $MSE$. \n",
    "\n",
    "Обозначим  произведение исходной матрицы признаков $X$ на матрицу $P$ как $Z$. \n",
    "\n",
    "Тогда формула обучения будет следующая: $w_z = (Z^T Z)^{-1} Z^T y$, а предсказания: $a = Zw_z + w_0$. \n",
    "\n",
    "Можно перейти к сокращенной записи $a = Zw_z$, добавив первым столбцом матрицы $Z$ единичный столбец, а параметр $w_0$ добавив к вектору $w_z$."
   ]
  },
  {
   "cell_type": "markdown",
   "metadata": {},
   "source": [
    "## 3. Алгоритм преобразования"
   ]
  },
  {
   "cell_type": "markdown",
   "metadata": {},
   "source": [
    "**Алгоритм**\n",
    "\n",
    "Сгенерируем квадратную матрицу $P$ размерностью, равной размеру вектора признаков объекта `features.shape[1]` исходной матрицы признаков, заполненную случайными числами. Проверим, что полученная матрица обратима, выполнив операцию нахождения обратной матрицы. Умножим исходную матрицу признаков на созданную матрицу. Полученная матрица отличается от исходной, по ней сложно восстановить данные клиентов не имея инфорамции о матрице $P$."
   ]
  },
  {
   "cell_type": "markdown",
   "metadata": {},
   "source": [
    "**Обоснование**\n",
    "\n",
    "Поскольку созданная матрица обратима, то мы можем заново обучить модель линейной регрессии для выполнения предсказаний, в соответствии с обоснованием, приведенным в пункте 2."
   ]
  },
  {
   "cell_type": "markdown",
   "metadata": {},
   "source": [
    "## 4. Проверка алгоритма"
   ]
  },
  {
   "cell_type": "code",
   "execution_count": 4,
   "metadata": {},
   "outputs": [],
   "source": [
    "# Выделим признаки и целевой признак\n",
    "features = data.drop('Страховые выплаты', axis=1)\n",
    "target = data['Страховые выплаты']"
   ]
  },
  {
   "cell_type": "code",
   "execution_count": 5,
   "metadata": {},
   "outputs": [
    {
     "data": {
      "text/plain": [
       "array([[1, 7, 9, 2],\n",
       "       [2, 5, 9, 6],\n",
       "       [1, 9, 3, 3],\n",
       "       [4, 3, 3, 1]])"
      ]
     },
     "execution_count": 5,
     "metadata": {},
     "output_type": "execute_result"
    }
   ],
   "source": [
    "# Создадим матрицу P, заполненную случайными числами от 0 до 10\n",
    "P = np.random.randint(10, size=(features.shape[1], features.shape[1]))\n",
    "P"
   ]
  },
  {
   "cell_type": "code",
   "execution_count": 6,
   "metadata": {},
   "outputs": [
    {
     "data": {
      "text/plain": [
       "array([[-0.07738095, -0.00595238, -0.0297619 ,  0.2797619 ],\n",
       "       [ 0.0327381 , -0.07440476,  0.12797619, -0.00297619],\n",
       "       [ 0.14186508,  0.0109127 , -0.11210317, -0.01289683],\n",
       "       [-0.21428571,  0.21428571,  0.07142857, -0.07142857]])"
      ]
     },
     "execution_count": 6,
     "metadata": {},
     "output_type": "execute_result"
    }
   ],
   "source": [
    "# Проверим полученную матрицу на обратимость\n",
    "np.linalg.inv(P)"
   ]
  },
  {
   "cell_type": "code",
   "execution_count": 7,
   "metadata": {},
   "outputs": [
    {
     "name": "stdout",
     "output_type": "stream",
     "text": [
      "      Пол  Возраст  Зарплата  Члены семьи\n",
      "0       1     41.0   49600.0            1\n",
      "1       0     46.0   38000.0            1\n",
      "2       0     29.0   21000.0            0\n",
      "3       0     21.0   41700.0            2\n",
      "4       1     28.0   26100.0            0\n",
      "...   ...      ...       ...          ...\n",
      "4995    0     28.0   35700.0            2\n",
      "4996    0     34.0   52400.0            1\n",
      "4997    0     20.0   33900.0            2\n",
      "4998    1     22.0   32700.0            3\n",
      "4999    1     28.0   40600.0            1\n",
      "\n",
      "[5000 rows x 4 columns]\n",
      "\n",
      "R2 модели из класса до преобразования: 0.4249455028666801\n",
      "R2 модели из библиотеки до преобразования: 0.42494550286668\n"
     ]
    }
   ],
   "source": [
    "# Напечатаем исходные признаки\n",
    "print(features)\n",
    "\n",
    "# Создадим класс модели линейной регрессии\n",
    "class LinearRegression_class:\n",
    "    def fit(self, train_features, train_target):\n",
    "        X = np.concatenate((np.ones((train_features.shape[0], 1)), train_features), axis=1)\n",
    "        y = train_target\n",
    "        w = np.linalg.inv(X.T.dot(X)).dot(X.T).dot(y)\n",
    "        self.w = w[1:]\n",
    "        self.w0 = w[0]\n",
    "\n",
    "    def predict(self, test_features):\n",
    "        return test_features.dot(self.w) + self.w0\n",
    "\n",
    "# Создадим экземпляры модели линейной регрессии для библиотечной версии и описанной в классе\n",
    "model = LinearRegression_class()\n",
    "model_skl = LinearRegression()\n",
    "\n",
    "# Обучим модели\n",
    "model.fit(features, target)\n",
    "model_skl.fit(features, target)\n",
    "\n",
    "# Получим предсказания\n",
    "predictions = model.predict(features)\n",
    "predictions_skl = model_skl.predict(features)\n",
    "\n",
    "# Напечатаем метрику R2 моделей\n",
    "print('\\nR2 модели из класса до преобразования:', r2_score(target, predictions))\n",
    "print('R2 модели из библиотеки до преобразования:', r2_score(target, predictions_skl))"
   ]
  },
  {
   "cell_type": "code",
   "execution_count": 8,
   "metadata": {},
   "outputs": [
    {
     "name": "stdout",
     "output_type": "stream",
     "text": [
      "            0         1         2         3\n",
      "0     49687.0  446615.0  149181.0  149049.0\n",
      "1     38096.0  342233.0  114417.0  114277.0\n",
      "2     21058.0  189145.0   63261.0   63174.0\n",
      "3     41750.0  375411.0  125295.0  125228.0\n",
      "4     26157.0  235047.0   78561.0   78470.0\n",
      "...       ...       ...       ...       ...\n",
      "4995  35764.0  321446.0  107358.0  107270.0\n",
      "4996  52472.0  471773.0  157509.0  157405.0\n",
      "4997  33948.0  305206.0  101886.0  101822.0\n",
      "4998  32757.0  294426.0   98316.0   98237.0\n",
      "4999  40661.0  365550.0  122064.0  121971.0\n",
      "\n",
      "[5000 rows x 4 columns]\n",
      "\n",
      "R2 модели из класса после преобразования: 0.4249455028666773\n",
      "R2 модели из библиотеки после преобразования: 0.4249455028666753\n"
     ]
    }
   ],
   "source": [
    "# Напечатаем измененные признаки\n",
    "features = (data.drop('Страховые выплаты', axis=1)).dot(P)\n",
    "print(features)\n",
    "\n",
    "# Создадим экземпляры модели линейной регрессии для библиотечной версии и описанной в классе\n",
    "model = LinearRegression_class()\n",
    "model_skl = LinearRegression()\n",
    "\n",
    "# Обучим модели с новыми признаками\n",
    "model.fit(features, target)\n",
    "model_skl.fit(features, target)\n",
    "\n",
    "# Получим предсказания\n",
    "predictions = model.predict(features)\n",
    "predictions_skl = model_skl.predict(features)\n",
    "\n",
    "# Напечатаем метрику R2 моделей\n",
    "print('\\nR2 модели из класса после преобразования:', r2_score(target, predictions))\n",
    "print('R2 модели из библиотеки после преобразования:', r2_score(target, predictions_skl))"
   ]
  },
  {
   "cell_type": "markdown",
   "metadata": {},
   "source": [
    "## Выводы\n",
    "\n",
    "- Преобразованные признаки существенно отличаются от исходных\n",
    "- Метрика R2 не изменилась после произведенных преобразований (отличие в 12-м знаке после запятой связано с ограниченной точностью вычислительных методов)."
   ]
  }
 ],
 "metadata": {
  "kernelspec": {
   "display_name": "Python 3",
   "language": "python",
   "name": "python3"
  },
  "language_info": {
   "codemirror_mode": {
    "name": "ipython",
    "version": 3
   },
   "file_extension": ".py",
   "mimetype": "text/x-python",
   "name": "python",
   "nbconvert_exporter": "python",
   "pygments_lexer": "ipython3",
   "version": "3.7.6"
  }
 },
 "nbformat": 4,
 "nbformat_minor": 2
}
